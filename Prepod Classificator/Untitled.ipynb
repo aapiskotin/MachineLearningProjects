{
 "cells": [
  {
   "cell_type": "code",
   "execution_count": 1,
   "metadata": {},
   "outputs": [],
   "source": [
    "from KNN import KNN"
   ]
  },
  {
   "cell_type": "code",
   "execution_count": 2,
   "metadata": {},
   "outputs": [],
   "source": [
    "shape_model_path = \"/Users/aapiskotin/Downloads/shape_predictor_68_face_landmarks.dat\"\n",
    "resnet_model_path = \"/Users/aapiskotin/Downloads/dlib_face_recognition_resnet_model_v1.dat\"\n",
    "vectors = 'vectors.ann'\n",
    "mapper = 'map_id_2_imgs.dict'\n",
    "\n",
    "nika1_path = \"/Users/aapiskotin/Downloads/nika_1.jpg\"\n",
    "nika2_path = \"/Users/aapiskotin/Downloads/nika_2.jpg\"\n",
    "nika3_path = \"/Users/aapiskotin/Downloads/nika_3.jpg\" #No Face Detected\n",
    "lera_path = \"/Users/aapiskotin/Downloads/VK/lera.jpg\"\n",
    "sins_path = \"/Users/aapiskotin/Downloads/sins2.jpg\"\n",
    "prep_path = './teachers/1/346894_cps.jpg'\n",
    "murav_path = \"/Users/aapiskotin/Downloads/murav.jpg\""
   ]
  },
  {
   "cell_type": "code",
   "execution_count": 3,
   "metadata": {},
   "outputs": [],
   "source": [
    "knn = KNN(vectors, mapper, shape_model_path, resnet_model_path)"
   ]
  },
  {
   "cell_type": "code",
   "execution_count": 5,
   "metadata": {},
   "outputs": [],
   "source": [
    "from FaceToVec import FaceToVec"
   ]
  },
  {
   "cell_type": "code",
   "execution_count": 31,
   "metadata": {},
   "outputs": [],
   "source": [
    "teachers_path = \"/Users/aapiskotin/Downloads/teachers/1/\""
   ]
  },
  {
   "cell_type": "code",
   "execution_count": 10,
   "metadata": {},
   "outputs": [],
   "source": [
    "facer = FaceToVec(shape_model_path, resnet_model_path)"
   ]
  },
  {
   "cell_type": "code",
   "execution_count": 8,
   "metadata": {},
   "outputs": [],
   "source": [
    "import cv2"
   ]
  },
  {
   "cell_type": "code",
   "execution_count": 24,
   "metadata": {},
   "outputs": [],
   "source": [
    "img = facer.load_image(teachers_path + '2_RahmatulinAB.jpg')"
   ]
  },
  {
   "cell_type": "code",
   "execution_count": 15,
   "metadata": {},
   "outputs": [],
   "source": [
    "img = cv2.imread(teachers_path + '2_RahmatulinAB.jpg')"
   ]
  },
  {
   "cell_type": "code",
   "execution_count": 25,
   "metadata": {},
   "outputs": [],
   "source": [
    "facer.show_image(img)"
   ]
  },
  {
   "cell_type": "code",
   "execution_count": 19,
   "metadata": {},
   "outputs": [],
   "source": [
    "import dlib"
   ]
  },
  {
   "cell_type": "code",
   "execution_count": 26,
   "metadata": {},
   "outputs": [],
   "source": [
    "img_rs = dlib.resize_image(img, 512, 427)"
   ]
  },
  {
   "cell_type": "code",
   "execution_count": 27,
   "metadata": {},
   "outputs": [],
   "source": [
    "facer.show_image(img_rs)"
   ]
  },
  {
   "cell_type": "code",
   "execution_count": 29,
   "metadata": {},
   "outputs": [],
   "source": [
    "import os"
   ]
  },
  {
   "cell_type": "code",
   "execution_count": 35,
   "metadata": {},
   "outputs": [],
   "source": [
    "for i, pic_name in enumerate(os.listdir(teachers_path)):\n",
    "    if pic_name == '.DS_Store':\n",
    "        continue\n",
    "    path = os.path.join(teachers_path, pic_name)\n",
    "    img = facer.load_image(path)\n",
    "    img_rs = dlib.resize_image(img, 512, 427)\n",
    "    dlib.save_image(img_rs, path)"
   ]
  },
  {
   "cell_type": "code",
   "execution_count": null,
   "metadata": {},
   "outputs": [],
   "source": []
  }
 ],
 "metadata": {
  "kernelspec": {
   "display_name": "Python 3",
   "language": "python",
   "name": "python3"
  },
  "language_info": {
   "codemirror_mode": {
    "name": "ipython",
    "version": 3
   },
   "file_extension": ".py",
   "mimetype": "text/x-python",
   "name": "python",
   "nbconvert_exporter": "python",
   "pygments_lexer": "ipython3",
   "version": "3.7.3"
  },
  "latex_envs": {
   "LaTeX_envs_menu_present": true,
   "autoclose": false,
   "autocomplete": true,
   "bibliofile": "biblio.bib",
   "cite_by": "apalike",
   "current_citInitial": 1,
   "eqLabelWithNumbers": true,
   "eqNumInitial": 1,
   "hotkeys": {
    "equation": "Ctrl-E",
    "itemize": "Ctrl-I"
   },
   "labels_anchors": false,
   "latex_user_defs": false,
   "report_style_numbering": false,
   "user_envs_cfg": false
  }
 },
 "nbformat": 4,
 "nbformat_minor": 2
}
