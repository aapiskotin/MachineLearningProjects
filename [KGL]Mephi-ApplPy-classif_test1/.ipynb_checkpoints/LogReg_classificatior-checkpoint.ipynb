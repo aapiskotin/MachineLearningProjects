{
 "cells": [
  {
   "cell_type": "markdown",
   "metadata": {},
   "source": [
    "# Mephi-ApplPy-classif_test1\n",
    "https://www.kaggle.com/c/mephi-applpython-classif-1"
   ]
  },
  {
   "cell_type": "markdown",
   "metadata": {},
   "source": [
    "Импортируем необходимые библиотеки"
   ]
  },
  {
   "cell_type": "code",
   "execution_count": 1,
   "metadata": {},
   "outputs": [],
   "source": [
    "import pandas as pd\n",
    "import numpy as np\n",
    "import scipy.sparse as sp\n",
    "\n",
    "from sklearn.linear_model import LogisticRegression\n",
    "from sklearn.metrics import accuracy_score\n",
    "from sklearn.model_selection import train_test_split\n",
    "from sklearn.feature_extraction.text import CountVectorizer\n",
    "\n",
    "import matplotlib.pyplot as plt\n",
    "\n",
    "import pymorphy2\n",
    "import string"
   ]
  },
  {
   "cell_type": "markdown",
   "metadata": {},
   "source": [
    "Считываем предоставленные данные"
   ]
  },
  {
   "cell_type": "code",
   "execution_count": 2,
   "metadata": {},
   "outputs": [],
   "source": [
    "category = pd.read_csv('data/category.csv')"
   ]
  },
  {
   "cell_type": "code",
   "execution_count": 21,
   "metadata": {},
   "outputs": [
    {
     "data": {
      "text/html": [
       "<div>\n",
       "<style scoped>\n",
       "    .dataframe tbody tr th:only-of-type {\n",
       "        vertical-align: middle;\n",
       "    }\n",
       "\n",
       "    .dataframe tbody tr th {\n",
       "        vertical-align: top;\n",
       "    }\n",
       "\n",
       "    .dataframe thead th {\n",
       "        text-align: right;\n",
       "    }\n",
       "</style>\n",
       "<table border=\"1\" class=\"dataframe\">\n",
       "  <thead>\n",
       "    <tr style=\"text-align: right;\">\n",
       "      <th></th>\n",
       "      <th>category_id</th>\n",
       "      <th>name</th>\n",
       "    </tr>\n",
       "  </thead>\n",
       "  <tbody>\n",
       "    <tr>\n",
       "      <th>0</th>\n",
       "      <td>0</td>\n",
       "      <td>Бытовая электроника|Телефоны|iPhone</td>\n",
       "    </tr>\n",
       "    <tr>\n",
       "      <th>1</th>\n",
       "      <td>1</td>\n",
       "      <td>Бытовая электроника|Ноутбуки</td>\n",
       "    </tr>\n",
       "    <tr>\n",
       "      <th>2</th>\n",
       "      <td>2</td>\n",
       "      <td>Бытовая электроника|Телефоны|Samsung</td>\n",
       "    </tr>\n",
       "    <tr>\n",
       "      <th>3</th>\n",
       "      <td>3</td>\n",
       "      <td>Бытовая электроника|Планшеты и электронные кни...</td>\n",
       "    </tr>\n",
       "    <tr>\n",
       "      <th>4</th>\n",
       "      <td>4</td>\n",
       "      <td>Бытовая электроника|Игры, приставки и программ...</td>\n",
       "    </tr>\n",
       "  </tbody>\n",
       "</table>\n",
       "</div>"
      ],
      "text/plain": [
       "   category_id                                               name\n",
       "0            0                Бытовая электроника|Телефоны|iPhone\n",
       "1            1                       Бытовая электроника|Ноутбуки\n",
       "2            2               Бытовая электроника|Телефоны|Samsung\n",
       "3            3  Бытовая электроника|Планшеты и электронные кни...\n",
       "4            4  Бытовая электроника|Игры, приставки и программ..."
      ]
     },
     "execution_count": 21,
     "metadata": {},
     "output_type": "execute_result"
    }
   ],
   "source": [
    "category.head()"
   ]
  },
  {
   "cell_type": "code",
   "execution_count": 4,
   "metadata": {},
   "outputs": [],
   "source": [
    "data = pd.read_csv('data/train.csv')"
   ]
  },
  {
   "cell_type": "code",
   "execution_count": 22,
   "metadata": {},
   "outputs": [
    {
     "data": {
      "text/html": [
       "<div>\n",
       "<style scoped>\n",
       "    .dataframe tbody tr th:only-of-type {\n",
       "        vertical-align: middle;\n",
       "    }\n",
       "\n",
       "    .dataframe tbody tr th {\n",
       "        vertical-align: top;\n",
       "    }\n",
       "\n",
       "    .dataframe thead th {\n",
       "        text-align: right;\n",
       "    }\n",
       "</style>\n",
       "<table border=\"1\" class=\"dataframe\">\n",
       "  <thead>\n",
       "    <tr style=\"text-align: right;\">\n",
       "      <th></th>\n",
       "      <th>item_id</th>\n",
       "      <th>title</th>\n",
       "      <th>description</th>\n",
       "      <th>price</th>\n",
       "      <th>category_id</th>\n",
       "    </tr>\n",
       "  </thead>\n",
       "  <tbody>\n",
       "    <tr>\n",
       "      <th>0</th>\n",
       "      <td>312862</td>\n",
       "      <td>картина</td>\n",
       "      <td>гобелен размер 139х84см</td>\n",
       "      <td>-0.109743</td>\n",
       "      <td>19</td>\n",
       "    </tr>\n",
       "    <tr>\n",
       "      <th>1</th>\n",
       "      <td>339243</td>\n",
       "      <td>стул из прессовать кожа</td>\n",
       "      <td>продать недорого 4 стул из светлый прессовать ...</td>\n",
       "      <td>-0.106235</td>\n",
       "      <td>22</td>\n",
       "    </tr>\n",
       "    <tr>\n",
       "      <th>2</th>\n",
       "      <td>6677</td>\n",
       "      <td>домашний минь баня</td>\n",
       "      <td>минь баня мб1минь сауна предназначить для прин...</td>\n",
       "      <td>0.058647</td>\n",
       "      <td>37</td>\n",
       "    </tr>\n",
       "    <tr>\n",
       "      <th>3</th>\n",
       "      <td>190544</td>\n",
       "      <td>эксклюзивный коллекция книга трансаэро подарок</td>\n",
       "      <td>продать эксклюзивный коллекция книга выпустить...</td>\n",
       "      <td>-0.067645</td>\n",
       "      <td>43</td>\n",
       "    </tr>\n",
       "    <tr>\n",
       "      <th>4</th>\n",
       "      <td>372595</td>\n",
       "      <td>ноутбук aser</td>\n",
       "      <td>продаваться ноутбук acer e5511c2ta купить в ко...</td>\n",
       "      <td>0.142842</td>\n",
       "      <td>1</td>\n",
       "    </tr>\n",
       "  </tbody>\n",
       "</table>\n",
       "</div>"
      ],
      "text/plain": [
       "   item_id                                           title  \\\n",
       "0   312862                                         картина   \n",
       "1   339243                         стул из прессовать кожа   \n",
       "2     6677                              домашний минь баня   \n",
       "3   190544  эксклюзивный коллекция книга трансаэро подарок   \n",
       "4   372595                                    ноутбук aser   \n",
       "\n",
       "                                         description     price  category_id  \n",
       "0                            гобелен размер 139х84см -0.109743           19  \n",
       "1  продать недорого 4 стул из светлый прессовать ... -0.106235           22  \n",
       "2  минь баня мб1минь сауна предназначить для прин...  0.058647           37  \n",
       "3  продать эксклюзивный коллекция книга выпустить... -0.067645           43  \n",
       "4  продаваться ноутбук acer e5511c2ta купить в ко...  0.142842            1  "
      ]
     },
     "execution_count": 22,
     "metadata": {},
     "output_type": "execute_result"
    }
   ],
   "source": [
    "data.head()"
   ]
  },
  {
   "cell_type": "code",
   "execution_count": 6,
   "metadata": {},
   "outputs": [],
   "source": [
    "test = pd.read_csv('data/test.csv')"
   ]
  },
  {
   "cell_type": "code",
   "execution_count": 7,
   "metadata": {},
   "outputs": [
    {
     "data": {
      "text/html": [
       "<div>\n",
       "<style scoped>\n",
       "    .dataframe tbody tr th:only-of-type {\n",
       "        vertical-align: middle;\n",
       "    }\n",
       "\n",
       "    .dataframe tbody tr th {\n",
       "        vertical-align: top;\n",
       "    }\n",
       "\n",
       "    .dataframe thead th {\n",
       "        text-align: right;\n",
       "    }\n",
       "</style>\n",
       "<table border=\"1\" class=\"dataframe\">\n",
       "  <thead>\n",
       "    <tr style=\"text-align: right;\">\n",
       "      <th></th>\n",
       "      <th>item_id</th>\n",
       "      <th>title</th>\n",
       "      <th>description</th>\n",
       "      <th>price</th>\n",
       "    </tr>\n",
       "  </thead>\n",
       "  <tbody>\n",
       "    <tr>\n",
       "      <th>0</th>\n",
       "      <td>64124</td>\n",
       "      <td>Санатории Белоруссии. - \"Лепельский военный\"</td>\n",
       "      <td>Санатории Белоруссии! -  «Лепельский военный» ...</td>\n",
       "      <td>1090.0</td>\n",
       "    </tr>\n",
       "    <tr>\n",
       "      <th>1</th>\n",
       "      <td>446139</td>\n",
       "      <td>Фотохолст</td>\n",
       "      <td>Фотохолст на подрамнике. 36х58см. Галерейная н...</td>\n",
       "      <td>1250.0</td>\n",
       "    </tr>\n",
       "    <tr>\n",
       "      <th>2</th>\n",
       "      <td>333280</td>\n",
       "      <td>Стенка для подростков</td>\n",
       "      <td>Продам детскую/подростковую стенку : шкаф, ком...</td>\n",
       "      <td>20000.0</td>\n",
       "    </tr>\n",
       "    <tr>\n",
       "      <th>3</th>\n",
       "      <td>260559</td>\n",
       "      <td>Монитор LG широкоформатный 19</td>\n",
       "      <td>ЖК-монитор с диагональю 19\" тип матрицы экрана...</td>\n",
       "      <td>2000.0</td>\n",
       "    </tr>\n",
       "    <tr>\n",
       "      <th>4</th>\n",
       "      <td>459407</td>\n",
       "      <td>Пакет одежды 44-46р-ра</td>\n",
       "      <td>Продам панет одежды.Юбка длинная из хлопка на ...</td>\n",
       "      <td>300.0</td>\n",
       "    </tr>\n",
       "  </tbody>\n",
       "</table>\n",
       "</div>"
      ],
      "text/plain": [
       "   item_id                                         title  \\\n",
       "0    64124  Санатории Белоруссии. - \"Лепельский военный\"   \n",
       "1   446139                                     Фотохолст   \n",
       "2   333280                         Стенка для подростков   \n",
       "3   260559                 Монитор LG широкоформатный 19   \n",
       "4   459407                        Пакет одежды 44-46р-ра   \n",
       "\n",
       "                                         description    price  \n",
       "0  Санатории Белоруссии! -  «Лепельский военный» ...   1090.0  \n",
       "1  Фотохолст на подрамнике. 36х58см. Галерейная н...   1250.0  \n",
       "2  Продам детскую/подростковую стенку : шкаф, ком...  20000.0  \n",
       "3  ЖК-монитор с диагональю 19\" тип матрицы экрана...   2000.0  \n",
       "4  Продам панет одежды.Юбка длинная из хлопка на ...    300.0  "
      ]
     },
     "execution_count": 7,
     "metadata": {},
     "output_type": "execute_result"
    }
   ],
   "source": [
    "test.head()"
   ]
  },
  {
   "cell_type": "markdown",
   "metadata": {},
   "source": [
    "Производим шкалирование единственного числового признака - price"
   ]
  },
  {
   "cell_type": "code",
   "execution_count": 8,
   "metadata": {},
   "outputs": [],
   "source": [
    "price_mean = data.price.mean()\n",
    "price_std = data.price.std()\n",
    "\n",
    "data.price = (data.price - price_mean) / price_std\n",
    "test.price = (test.price - price_mean) / price_std"
   ]
  },
  {
   "cell_type": "markdown",
   "metadata": {},
   "source": [
    "Что делаем с текстовыми данными:\n",
    "- Все встречающиеся слова приводим к нормальной форме\n",
    "- избавляемся от знаков препинания\n",
    "- кодируем в вектора через CountVectorizer"
   ]
  },
  {
   "cell_type": "code",
   "execution_count": 11,
   "metadata": {},
   "outputs": [],
   "source": [
    "def text_normalizer(text, analyzer):\n",
    "    text = text.translate(text.maketrans('', '', string.punctuation)).lower()\n",
    "    words = text.split()\n",
    "    normalized_text = ''\n",
    "    for word in words:\n",
    "        p = analyzer.parse(word)[0]\n",
    "        normalized_text += p.normal_form + ' '\n",
    "        \n",
    "    return normalized_text.rstrip()"
   ]
  },
  {
   "cell_type": "code",
   "execution_count": 12,
   "metadata": {},
   "outputs": [
    {
     "name": "stdout",
     "output_type": "stream",
     "text": [
      "CPU times: user 1h 17min 55s, sys: 31.9 s, total: 1h 18min 27s\n",
      "Wall time: 1h 19min 6s\n"
     ]
    }
   ],
   "source": [
    "%%time\n",
    "\n",
    "morpher = pymorphy2.MorphAnalyzer()\n",
    "\n",
    "data['title'] = np.vectorize(text_normalizer)(data['title'], morpher)\n",
    "data['description'] = np.vectorize(text_normalizer)(data['description'], morpher)\n",
    "\n",
    "test['title'] = np.vectorize(text_normalizer)(test['title'], morpher)\n",
    "test['description'] = np.vectorize(text_normalizer)(test['description'], morpher)"
   ]
  },
  {
   "cell_type": "code",
   "execution_count": 23,
   "metadata": {},
   "outputs": [
    {
     "data": {
      "text/html": [
       "<div>\n",
       "<style scoped>\n",
       "    .dataframe tbody tr th:only-of-type {\n",
       "        vertical-align: middle;\n",
       "    }\n",
       "\n",
       "    .dataframe tbody tr th {\n",
       "        vertical-align: top;\n",
       "    }\n",
       "\n",
       "    .dataframe thead th {\n",
       "        text-align: right;\n",
       "    }\n",
       "</style>\n",
       "<table border=\"1\" class=\"dataframe\">\n",
       "  <thead>\n",
       "    <tr style=\"text-align: right;\">\n",
       "      <th></th>\n",
       "      <th>item_id</th>\n",
       "      <th>title</th>\n",
       "      <th>description</th>\n",
       "      <th>price</th>\n",
       "      <th>category_id</th>\n",
       "    </tr>\n",
       "  </thead>\n",
       "  <tbody>\n",
       "    <tr>\n",
       "      <th>0</th>\n",
       "      <td>312862</td>\n",
       "      <td>картина</td>\n",
       "      <td>гобелен размер 139х84см</td>\n",
       "      <td>-0.109743</td>\n",
       "      <td>19</td>\n",
       "    </tr>\n",
       "    <tr>\n",
       "      <th>1</th>\n",
       "      <td>339243</td>\n",
       "      <td>стул из прессовать кожа</td>\n",
       "      <td>продать недорого 4 стул из светлый прессовать ...</td>\n",
       "      <td>-0.106235</td>\n",
       "      <td>22</td>\n",
       "    </tr>\n",
       "    <tr>\n",
       "      <th>2</th>\n",
       "      <td>6677</td>\n",
       "      <td>домашний минь баня</td>\n",
       "      <td>минь баня мб1минь сауна предназначить для прин...</td>\n",
       "      <td>0.058647</td>\n",
       "      <td>37</td>\n",
       "    </tr>\n",
       "    <tr>\n",
       "      <th>3</th>\n",
       "      <td>190544</td>\n",
       "      <td>эксклюзивный коллекция книга трансаэро подарок</td>\n",
       "      <td>продать эксклюзивный коллекция книга выпустить...</td>\n",
       "      <td>-0.067645</td>\n",
       "      <td>43</td>\n",
       "    </tr>\n",
       "    <tr>\n",
       "      <th>4</th>\n",
       "      <td>372595</td>\n",
       "      <td>ноутбук aser</td>\n",
       "      <td>продаваться ноутбук acer e5511c2ta купить в ко...</td>\n",
       "      <td>0.142842</td>\n",
       "      <td>1</td>\n",
       "    </tr>\n",
       "  </tbody>\n",
       "</table>\n",
       "</div>"
      ],
      "text/plain": [
       "   item_id                                           title  \\\n",
       "0   312862                                         картина   \n",
       "1   339243                         стул из прессовать кожа   \n",
       "2     6677                              домашний минь баня   \n",
       "3   190544  эксклюзивный коллекция книга трансаэро подарок   \n",
       "4   372595                                    ноутбук aser   \n",
       "\n",
       "                                         description     price  category_id  \n",
       "0                            гобелен размер 139х84см -0.109743           19  \n",
       "1  продать недорого 4 стул из светлый прессовать ... -0.106235           22  \n",
       "2  минь баня мб1минь сауна предназначить для прин...  0.058647           37  \n",
       "3  продать эксклюзивный коллекция книга выпустить... -0.067645           43  \n",
       "4  продаваться ноутбук acer e5511c2ta купить в ко...  0.142842            1  "
      ]
     },
     "execution_count": 23,
     "metadata": {},
     "output_type": "execute_result"
    }
   ],
   "source": [
    "data.head()"
   ]
  },
  {
   "cell_type": "code",
   "execution_count": 24,
   "metadata": {},
   "outputs": [
    {
     "data": {
      "text/html": [
       "<div>\n",
       "<style scoped>\n",
       "    .dataframe tbody tr th:only-of-type {\n",
       "        vertical-align: middle;\n",
       "    }\n",
       "\n",
       "    .dataframe tbody tr th {\n",
       "        vertical-align: top;\n",
       "    }\n",
       "\n",
       "    .dataframe thead th {\n",
       "        text-align: right;\n",
       "    }\n",
       "</style>\n",
       "<table border=\"1\" class=\"dataframe\">\n",
       "  <thead>\n",
       "    <tr style=\"text-align: right;\">\n",
       "      <th></th>\n",
       "      <th>item_id</th>\n",
       "      <th>title</th>\n",
       "      <th>description</th>\n",
       "      <th>price</th>\n",
       "    </tr>\n",
       "  </thead>\n",
       "  <tbody>\n",
       "    <tr>\n",
       "      <th>0</th>\n",
       "      <td>64124</td>\n",
       "      <td>санаторий белоруссия лепельский военный</td>\n",
       "      <td>санаторий белоруссия «лепельский военный» цена...</td>\n",
       "      <td>-0.108480</td>\n",
       "    </tr>\n",
       "    <tr>\n",
       "      <th>1</th>\n",
       "      <td>446139</td>\n",
       "      <td>фотохолст</td>\n",
       "      <td>фотохолст на подрамник 36х58см галерейный натя...</td>\n",
       "      <td>-0.106235</td>\n",
       "    </tr>\n",
       "    <tr>\n",
       "      <th>2</th>\n",
       "      <td>333280</td>\n",
       "      <td>стенка для подросток</td>\n",
       "      <td>продать детскуюподростковый стенка шкаф комод ...</td>\n",
       "      <td>0.156874</td>\n",
       "    </tr>\n",
       "    <tr>\n",
       "      <th>3</th>\n",
       "      <td>260559</td>\n",
       "      <td>монитор lg широкоформатный 19</td>\n",
       "      <td>жкмонитор с диагональ 19 тип матрица экран tft...</td>\n",
       "      <td>-0.095710</td>\n",
       "    </tr>\n",
       "    <tr>\n",
       "      <th>4</th>\n",
       "      <td>459407</td>\n",
       "      <td>пакет одежда 4446рра</td>\n",
       "      <td>продать панета одеждыюбка длинный из хлопок на...</td>\n",
       "      <td>-0.119566</td>\n",
       "    </tr>\n",
       "  </tbody>\n",
       "</table>\n",
       "</div>"
      ],
      "text/plain": [
       "   item_id                                    title  \\\n",
       "0    64124  санаторий белоруссия лепельский военный   \n",
       "1   446139                                фотохолст   \n",
       "2   333280                     стенка для подросток   \n",
       "3   260559            монитор lg широкоформатный 19   \n",
       "4   459407                     пакет одежда 4446рра   \n",
       "\n",
       "                                         description     price  \n",
       "0  санаторий белоруссия «лепельский военный» цена... -0.108480  \n",
       "1  фотохолст на подрамник 36х58см галерейный натя... -0.106235  \n",
       "2  продать детскуюподростковый стенка шкаф комод ...  0.156874  \n",
       "3  жкмонитор с диагональ 19 тип матрица экран tft... -0.095710  \n",
       "4  продать панета одеждыюбка длинный из хлопок на... -0.119566  "
      ]
     },
     "execution_count": 24,
     "metadata": {},
     "output_type": "execute_result"
    }
   ],
   "source": [
    "test.head()"
   ]
  },
  {
   "cell_type": "markdown",
   "metadata": {},
   "source": [
    "Получаем нашу матрицу признаков"
   ]
  },
  {
   "cell_type": "code",
   "execution_count": 14,
   "metadata": {},
   "outputs": [],
   "source": [
    "title_vectorizer = CountVectorizer(binary=True)\n",
    "title_features = title_vectorizer.fit_transform(data.title)\n",
    "\n",
    "descr_vectorizer = CountVectorizer( binary=True)\n",
    "description_features = descr_vectorizer.fit_transform(data.description)\n",
    "\n",
    "features = sp.hstack([title_features, description_features, data[['price']]])"
   ]
  },
  {
   "cell_type": "markdown",
   "metadata": {},
   "source": [
    "Делим сет на train и test (закрепив random state), производим обучение и оцениваем той же метрикой, что и используется в соревновании"
   ]
  },
  {
   "cell_type": "code",
   "execution_count": 15,
   "metadata": {},
   "outputs": [],
   "source": [
    "Xtrain, Xval, ytrain, yval = train_test_split(features, data.category_id, \n",
    "                                              random_state=648, test_size=0.25)"
   ]
  },
  {
   "cell_type": "code",
   "execution_count": 16,
   "metadata": {},
   "outputs": [
    {
     "name": "stderr",
     "output_type": "stream",
     "text": [
      "/Users/aapiskotin/anaconda3/envs/python3/lib/python3.6/site-packages/sklearn/linear_model/logistic.py:433: FutureWarning: Default solver will be changed to 'lbfgs' in 0.22. Specify a solver to silence this warning.\n",
      "  FutureWarning)\n",
      "/Users/aapiskotin/anaconda3/envs/python3/lib/python3.6/site-packages/sklearn/linear_model/logistic.py:460: FutureWarning: Default multi_class will be changed to 'auto' in 0.22. Specify the multi_class option to silence this warning.\n",
      "  \"this warning.\", FutureWarning)\n",
      "/Users/aapiskotin/anaconda3/envs/python3/lib/python3.6/site-packages/sklearn/svm/base.py:931: ConvergenceWarning: Liblinear failed to converge, increase the number of iterations.\n",
      "  \"the number of iterations.\", ConvergenceWarning)\n"
     ]
    },
    {
     "name": "stdout",
     "output_type": "stream",
     "text": [
      "CPU times: user 27min 18s, sys: 3.41 s, total: 27min 21s\n",
      "Wall time: 27min 24s\n"
     ]
    }
   ],
   "source": [
    "%%time\n",
    "\n",
    "clf = LogisticRegression()\n",
    "clf.fit(Xtrain, ytrain)\n",
    "y_pred = clf.predict(Xval)"
   ]
  },
  {
   "cell_type": "code",
   "execution_count": 17,
   "metadata": {},
   "outputs": [
    {
     "data": {
      "text/plain": [
       "0.8774232688966715"
      ]
     },
     "execution_count": 17,
     "metadata": {},
     "output_type": "execute_result"
    }
   ],
   "source": [
    "accuracy_score(yval, y_pred)"
   ]
  },
  {
   "cell_type": "markdown",
   "metadata": {},
   "source": [
    "Получили неплохой скор. Можно сабмитить на кагл."
   ]
  },
  {
   "cell_type": "code",
   "execution_count": 18,
   "metadata": {},
   "outputs": [],
   "source": [
    "title_features = title_vectorizer.transform(test.title)\n",
    "description_features = descr_vectorizer.transform(test.description)\n",
    "\n",
    "\n",
    "test_features = sp.hstack([title_features, description_features, test[['price']]])"
   ]
  },
  {
   "cell_type": "code",
   "execution_count": 19,
   "metadata": {},
   "outputs": [],
   "source": [
    "y_pred_test = clf.predict(test_features)"
   ]
  },
  {
   "cell_type": "code",
   "execution_count": 20,
   "metadata": {},
   "outputs": [],
   "source": [
    "pd.DataFrame({'Id': test.item_id, 'Category':y_pred_test}).to_csv('my_pred.csv', index=None)"
   ]
  }
 ],
 "metadata": {
  "kernelspec": {
   "display_name": "Python 3",
   "language": "python",
   "name": "python3"
  },
  "language_info": {
   "codemirror_mode": {
    "name": "ipython",
    "version": 3
   },
   "file_extension": ".py",
   "mimetype": "text/x-python",
   "name": "python",
   "nbconvert_exporter": "python",
   "pygments_lexer": "ipython3",
   "version": "3.6.8"
  },
  "latex_envs": {
   "LaTeX_envs_menu_present": true,
   "autoclose": false,
   "autocomplete": true,
   "bibliofile": "biblio.bib",
   "cite_by": "apalike",
   "current_citInitial": 1,
   "eqLabelWithNumbers": true,
   "eqNumInitial": 1,
   "hotkeys": {
    "equation": "Ctrl-E",
    "itemize": "Ctrl-I"
   },
   "labels_anchors": false,
   "latex_user_defs": false,
   "report_style_numbering": false,
   "user_envs_cfg": false
  }
 },
 "nbformat": 4,
 "nbformat_minor": 2
}
