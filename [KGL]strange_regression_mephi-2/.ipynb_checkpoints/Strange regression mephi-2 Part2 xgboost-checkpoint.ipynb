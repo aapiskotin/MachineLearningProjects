{
 "cells": [
  {
   "cell_type": "markdown",
   "metadata": {},
   "source": [
    "# Strange regression mephi-2\n",
    "\n",
    "https://www.kaggle.com/c/strange-regression-mephi-2"
   ]
  },
  {
   "cell_type": "markdown",
   "metadata": {},
   "source": [
    "Импортируем необходимые библиотеки"
   ]
  },
  {
   "cell_type": "code",
   "execution_count": 62,
   "metadata": {},
   "outputs": [],
   "source": [
    "import pandas as pd\n",
    "import numpy as np\n",
    "import scipy.sparse as sp\n",
    "\n",
    "import matplotlib.pyplot as plt"
   ]
  },
  {
   "cell_type": "markdown",
   "metadata": {},
   "source": [
    "Загружаем данные и начинаем работу с ними"
   ]
  },
  {
   "cell_type": "code",
   "execution_count": 2,
   "metadata": {},
   "outputs": [],
   "source": [
    "data_train = pd.read_csv(\"data/kagle_train.csv\", parse_dates=['start_time'], index_col='item_id')"
   ]
  },
  {
   "cell_type": "code",
   "execution_count": 3,
   "metadata": {},
   "outputs": [],
   "source": [
    "data_test = pd.read_csv('data/regr_test.csv', parse_dates=['start_time'])"
   ]
  },
  {
   "cell_type": "code",
   "execution_count": 4,
   "metadata": {},
   "outputs": [
    {
     "data": {
      "text/html": [
       "<div>\n",
       "<style scoped>\n",
       "    .dataframe tbody tr th:only-of-type {\n",
       "        vertical-align: middle;\n",
       "    }\n",
       "\n",
       "    .dataframe tbody tr th {\n",
       "        vertical-align: top;\n",
       "    }\n",
       "\n",
       "    .dataframe thead th {\n",
       "        text-align: right;\n",
       "    }\n",
       "</style>\n",
       "<table border=\"1\" class=\"dataframe\">\n",
       "  <thead>\n",
       "    <tr style=\"text-align: right;\">\n",
       "      <th></th>\n",
       "      <th>id</th>\n",
       "      <th>start_time</th>\n",
       "      <th>title</th>\n",
       "      <th>price</th>\n",
       "      <th>owner_type</th>\n",
       "      <th>category</th>\n",
       "      <th>subcategory</th>\n",
       "      <th>param1</th>\n",
       "      <th>param2</th>\n",
       "      <th>param3</th>\n",
       "      <th>region</th>\n",
       "      <th>item_views</th>\n",
       "    </tr>\n",
       "    <tr>\n",
       "      <th>item_id</th>\n",
       "      <th></th>\n",
       "      <th></th>\n",
       "      <th></th>\n",
       "      <th></th>\n",
       "      <th></th>\n",
       "      <th></th>\n",
       "      <th></th>\n",
       "      <th></th>\n",
       "      <th></th>\n",
       "      <th></th>\n",
       "      <th></th>\n",
       "      <th></th>\n",
       "    </tr>\n",
       "  </thead>\n",
       "  <tbody>\n",
       "    <tr>\n",
       "      <th>3075035036656065919</th>\n",
       "      <td>186249</td>\n",
       "      <td>2016-12-26 11:59:27</td>\n",
       "      <td>Продаются зимние сапоги 33 размера</td>\n",
       "      <td>1000</td>\n",
       "      <td>Private</td>\n",
       "      <td>Личные вещи</td>\n",
       "      <td>Детская одежда и обувь</td>\n",
       "      <td>Для девочек</td>\n",
       "      <td>Обувь</td>\n",
       "      <td>33</td>\n",
       "      <td>Москва</td>\n",
       "      <td>2.708050</td>\n",
       "    </tr>\n",
       "    <tr>\n",
       "      <th>1794983267669201651</th>\n",
       "      <td>214401</td>\n",
       "      <td>2016-12-27 17:46:10</td>\n",
       "      <td>Офисное помещение, 10624 м?</td>\n",
       "      <td>745000000</td>\n",
       "      <td>Shop</td>\n",
       "      <td>Недвижимость</td>\n",
       "      <td>Коммерческая недвижимость</td>\n",
       "      <td>Продам</td>\n",
       "      <td>Офисное помещение</td>\n",
       "      <td>NaN</td>\n",
       "      <td>Москва</td>\n",
       "      <td>3.433987</td>\n",
       "    </tr>\n",
       "    <tr>\n",
       "      <th>1443121548946474157</th>\n",
       "      <td>158646</td>\n",
       "      <td>2016-12-27 14:06:22</td>\n",
       "      <td>Phone 4s</td>\n",
       "      <td>6500</td>\n",
       "      <td>Company</td>\n",
       "      <td>Бытовая электроника</td>\n",
       "      <td>Телефоны</td>\n",
       "      <td>iPhone</td>\n",
       "      <td>NaN</td>\n",
       "      <td>NaN</td>\n",
       "      <td>Краснодарский край</td>\n",
       "      <td>4.672829</td>\n",
       "    </tr>\n",
       "    <tr>\n",
       "      <th>7817451974881978690</th>\n",
       "      <td>89902</td>\n",
       "      <td>2016-12-26 08:13:40</td>\n",
       "      <td>Модем МТС с wi-fi</td>\n",
       "      <td>2000</td>\n",
       "      <td>Private</td>\n",
       "      <td>Бытовая электроника</td>\n",
       "      <td>Товары для компьютера</td>\n",
       "      <td>Сетевое оборудование</td>\n",
       "      <td>NaN</td>\n",
       "      <td>NaN</td>\n",
       "      <td>Москва</td>\n",
       "      <td>2.890372</td>\n",
       "    </tr>\n",
       "    <tr>\n",
       "      <th>6593447580407155572</th>\n",
       "      <td>224793</td>\n",
       "      <td>2016-12-27 09:03:44</td>\n",
       "      <td>Tag Heuer Aquaracer Chronotimer 43 mm</td>\n",
       "      <td>72000</td>\n",
       "      <td>Company</td>\n",
       "      <td>Личные вещи</td>\n",
       "      <td>Часы и украшения</td>\n",
       "      <td>Часы</td>\n",
       "      <td>NaN</td>\n",
       "      <td>NaN</td>\n",
       "      <td>Москва</td>\n",
       "      <td>4.753590</td>\n",
       "    </tr>\n",
       "  </tbody>\n",
       "</table>\n",
       "</div>"
      ],
      "text/plain": [
       "                         id          start_time  \\\n",
       "item_id                                           \n",
       "3075035036656065919  186249 2016-12-26 11:59:27   \n",
       "1794983267669201651  214401 2016-12-27 17:46:10   \n",
       "1443121548946474157  158646 2016-12-27 14:06:22   \n",
       "7817451974881978690   89902 2016-12-26 08:13:40   \n",
       "6593447580407155572  224793 2016-12-27 09:03:44   \n",
       "\n",
       "                                                     title      price  \\\n",
       "item_id                                                                 \n",
       "3075035036656065919     Продаются зимние сапоги 33 размера       1000   \n",
       "1794983267669201651            Офисное помещение, 10624 м?  745000000   \n",
       "1443121548946474157                               Phone 4s       6500   \n",
       "7817451974881978690                      Модем МТС с wi-fi       2000   \n",
       "6593447580407155572  Tag Heuer Aquaracer Chronotimer 43 mm      72000   \n",
       "\n",
       "                    owner_type             category  \\\n",
       "item_id                                               \n",
       "3075035036656065919    Private          Личные вещи   \n",
       "1794983267669201651       Shop         Недвижимость   \n",
       "1443121548946474157    Company  Бытовая электроника   \n",
       "7817451974881978690    Private  Бытовая электроника   \n",
       "6593447580407155572    Company          Личные вещи   \n",
       "\n",
       "                                   subcategory                param1  \\\n",
       "item_id                                                                \n",
       "3075035036656065919     Детская одежда и обувь           Для девочек   \n",
       "1794983267669201651  Коммерческая недвижимость                Продам   \n",
       "1443121548946474157                   Телефоны                iPhone   \n",
       "7817451974881978690      Товары для компьютера  Сетевое оборудование   \n",
       "6593447580407155572           Часы и украшения                  Часы   \n",
       "\n",
       "                                param2 param3              region  item_views  \n",
       "item_id                                                                        \n",
       "3075035036656065919              Обувь     33              Москва    2.708050  \n",
       "1794983267669201651  Офисное помещение    NaN              Москва    3.433987  \n",
       "1443121548946474157                NaN    NaN  Краснодарский край    4.672829  \n",
       "7817451974881978690                NaN    NaN              Москва    2.890372  \n",
       "6593447580407155572                NaN    NaN              Москва    4.753590  "
      ]
     },
     "execution_count": 4,
     "metadata": {},
     "output_type": "execute_result"
    }
   ],
   "source": [
    "data_train.sample(5)"
   ]
  },
  {
   "cell_type": "code",
   "execution_count": 5,
   "metadata": {},
   "outputs": [
    {
     "data": {
      "text/html": [
       "<div>\n",
       "<style scoped>\n",
       "    .dataframe tbody tr th:only-of-type {\n",
       "        vertical-align: middle;\n",
       "    }\n",
       "\n",
       "    .dataframe tbody tr th {\n",
       "        vertical-align: top;\n",
       "    }\n",
       "\n",
       "    .dataframe thead th {\n",
       "        text-align: right;\n",
       "    }\n",
       "</style>\n",
       "<table border=\"1\" class=\"dataframe\">\n",
       "  <thead>\n",
       "    <tr style=\"text-align: right;\">\n",
       "      <th></th>\n",
       "      <th>id</th>\n",
       "      <th>start_time</th>\n",
       "      <th>title</th>\n",
       "      <th>price</th>\n",
       "      <th>item_id</th>\n",
       "      <th>owner_type</th>\n",
       "      <th>category</th>\n",
       "      <th>subcategory</th>\n",
       "      <th>param1</th>\n",
       "      <th>param2</th>\n",
       "      <th>param3</th>\n",
       "      <th>region</th>\n",
       "    </tr>\n",
       "  </thead>\n",
       "  <tbody>\n",
       "    <tr>\n",
       "      <th>41440</th>\n",
       "      <td>133579</td>\n",
       "      <td>2016-12-27 10:23:13</td>\n",
       "      <td>Peugeot 206, 2008</td>\n",
       "      <td>229000</td>\n",
       "      <td>8679363650664367011</td>\n",
       "      <td>Company</td>\n",
       "      <td>Транспорт</td>\n",
       "      <td>Автомобили</td>\n",
       "      <td>С пробегом</td>\n",
       "      <td>Peugeot</td>\n",
       "      <td>206</td>\n",
       "      <td>Краснодарский край</td>\n",
       "    </tr>\n",
       "    <tr>\n",
       "      <th>18671</th>\n",
       "      <td>216687</td>\n",
       "      <td>2016-12-28 17:44:40</td>\n",
       "      <td>Комплект ханкок Winter IxPike W409 205/60R16</td>\n",
       "      <td>13000</td>\n",
       "      <td>941255576028269836</td>\n",
       "      <td>Shop</td>\n",
       "      <td>Транспорт</td>\n",
       "      <td>Запчасти и аксессуары</td>\n",
       "      <td>Шины, диски и колёса</td>\n",
       "      <td>Шины</td>\n",
       "      <td>16</td>\n",
       "      <td>Санкт-Петербург</td>\n",
       "    </tr>\n",
       "    <tr>\n",
       "      <th>3452</th>\n",
       "      <td>360849</td>\n",
       "      <td>2016-12-27 02:07:38</td>\n",
       "      <td>Лосины</td>\n",
       "      <td>500</td>\n",
       "      <td>5673174489337185325</td>\n",
       "      <td>Private</td>\n",
       "      <td>Личные вещи</td>\n",
       "      <td>Одежда, обувь, аксессуары</td>\n",
       "      <td>Женская одежда</td>\n",
       "      <td>Брюки</td>\n",
       "      <td>40–42 (XS)</td>\n",
       "      <td>Краснодарский край</td>\n",
       "    </tr>\n",
       "    <tr>\n",
       "      <th>5797</th>\n",
       "      <td>71594</td>\n",
       "      <td>2016-12-27 12:15:03</td>\n",
       "      <td>Hermes</td>\n",
       "      <td>2500</td>\n",
       "      <td>4157458661292731857</td>\n",
       "      <td>Company</td>\n",
       "      <td>Личные вещи</td>\n",
       "      <td>Красота и здоровье</td>\n",
       "      <td>Парфюмерия</td>\n",
       "      <td>NaN</td>\n",
       "      <td>NaN</td>\n",
       "      <td>Москва</td>\n",
       "    </tr>\n",
       "    <tr>\n",
       "      <th>7065</th>\n",
       "      <td>280089</td>\n",
       "      <td>2016-12-27 21:49:47</td>\n",
       "      <td>2-к квартира, 45 м?, 2/5 эт.</td>\n",
       "      <td>2250000</td>\n",
       "      <td>537934859037013954</td>\n",
       "      <td>Company</td>\n",
       "      <td>Недвижимость</td>\n",
       "      <td>Квартиры</td>\n",
       "      <td>Продам</td>\n",
       "      <td>2</td>\n",
       "      <td>Вторичка</td>\n",
       "      <td>Коми</td>\n",
       "    </tr>\n",
       "  </tbody>\n",
       "</table>\n",
       "</div>"
      ],
      "text/plain": [
       "           id          start_time  \\\n",
       "41440  133579 2016-12-27 10:23:13   \n",
       "18671  216687 2016-12-28 17:44:40   \n",
       "3452   360849 2016-12-27 02:07:38   \n",
       "5797    71594 2016-12-27 12:15:03   \n",
       "7065   280089 2016-12-27 21:49:47   \n",
       "\n",
       "                                              title    price  \\\n",
       "41440                             Peugeot 206, 2008   229000   \n",
       "18671  Комплект ханкок Winter IxPike W409 205/60R16    13000   \n",
       "3452                                         Лосины      500   \n",
       "5797                                         Hermes     2500   \n",
       "7065                   2-к квартира, 45 м?, 2/5 эт.  2250000   \n",
       "\n",
       "                   item_id owner_type      category  \\\n",
       "41440  8679363650664367011    Company     Транспорт   \n",
       "18671   941255576028269836       Shop     Транспорт   \n",
       "3452   5673174489337185325    Private   Личные вещи   \n",
       "5797   4157458661292731857    Company   Личные вещи   \n",
       "7065    537934859037013954    Company  Недвижимость   \n",
       "\n",
       "                     subcategory                param1   param2      param3  \\\n",
       "41440                 Автомобили            С пробегом  Peugeot         206   \n",
       "18671      Запчасти и аксессуары  Шины, диски и колёса     Шины          16   \n",
       "3452   Одежда, обувь, аксессуары        Женская одежда    Брюки  40–42 (XS)   \n",
       "5797          Красота и здоровье            Парфюмерия      NaN         NaN   \n",
       "7065                    Квартиры                Продам        2    Вторичка   \n",
       "\n",
       "                   region  \n",
       "41440  Краснодарский край  \n",
       "18671     Санкт-Петербург  \n",
       "3452   Краснодарский край  \n",
       "5797               Москва  \n",
       "7065                 Коми  "
      ]
     },
     "execution_count": 5,
     "metadata": {},
     "output_type": "execute_result"
    }
   ],
   "source": [
    "data_test.sample(5)"
   ]
  },
  {
   "cell_type": "markdown",
   "metadata": {},
   "source": [
    "## Работа с текстом('title'):\n",
    "- считаем заглавные буквы и '!'\n",
    "- плотность заглавных букв и '!'\n",
    "- считаем латинские символы\n",
    "- считаем длину\n",
    "- считаем цифры\n",
    "- нормализуем полученные числовые признаки\n",
    "- избавляемся от пунктуации\n",
    "- нормализуем слова\n",
    "- Генерируем CountVectorized"
   ]
  },
  {
   "cell_type": "code",
   "execution_count": 6,
   "metadata": {},
   "outputs": [],
   "source": [
    "def count_uppercase_and_spec_marks(text):\n",
    "    counter = 0\n",
    "    for c in text:\n",
    "        if c.isupper() or c == '!':\n",
    "            counter += 1\n",
    "            \n",
    "    return counter"
   ]
  },
  {
   "cell_type": "code",
   "execution_count": 7,
   "metadata": {},
   "outputs": [],
   "source": [
    "data_train['title_uc_!'] = np.vectorize(count_uppercase_and_spec_marks)(data_train['title'])\n",
    "data_test['title_uc_!'] = np.vectorize(count_uppercase_and_spec_marks)(data_test['title'])"
   ]
  },
  {
   "cell_type": "code",
   "execution_count": 8,
   "metadata": {},
   "outputs": [],
   "source": [
    "data_train['title_uc_!_density'] = data_train['title_uc_!'] / data_train['title'].apply(len)\n",
    "data_test['title_uc_!_density'] = data_test['title_uc_!'] / data_test['title'].apply(len)"
   ]
  },
  {
   "cell_type": "code",
   "execution_count": 9,
   "metadata": {},
   "outputs": [],
   "source": [
    "import re\n",
    "\n",
    "english_check = re.compile(r'[a-z]')\n",
    "\n",
    "def count_eng(text):\n",
    "    counter = 0\n",
    "    for c in text:\n",
    "        if english_check.match(c):\n",
    "            counter += 1\n",
    "            \n",
    "    return counter"
   ]
  },
  {
   "cell_type": "code",
   "execution_count": 10,
   "metadata": {},
   "outputs": [],
   "source": [
    "data_train['title_eng_count'] = data_train['title'].apply(count_eng)\n",
    "data_test['title_eng_count'] = data_test['title'].apply(count_eng)"
   ]
  },
  {
   "cell_type": "code",
   "execution_count": 11,
   "metadata": {},
   "outputs": [],
   "source": [
    "data_train['title_len'] = data_train['title'].apply(len)\n",
    "data_test['title_len'] = data_test['title'].apply(len)"
   ]
  },
  {
   "cell_type": "code",
   "execution_count": 12,
   "metadata": {},
   "outputs": [],
   "source": [
    "def count_digits(text):\n",
    "    counter = 0\n",
    "    for c in text:\n",
    "        if c.isdigit():\n",
    "            counter += 1\n",
    "            \n",
    "    return counter"
   ]
  },
  {
   "cell_type": "code",
   "execution_count": 13,
   "metadata": {},
   "outputs": [],
   "source": [
    "data_train['title_digits'] = data_train['title'].apply(count_digits)\n",
    "data_test['title_digits'] = data_test['title'].apply(count_digits)"
   ]
  },
  {
   "cell_type": "code",
   "execution_count": 14,
   "metadata": {},
   "outputs": [],
   "source": [
    "title_features_columns = ['title_uc_!', 'title_uc_!_density', 'title_eng_count', 'title_len', 'title_digits', 'price']"
   ]
  },
  {
   "cell_type": "markdown",
   "metadata": {},
   "source": [
    "Заодно отшкалируем цену"
   ]
  },
  {
   "cell_type": "code",
   "execution_count": 15,
   "metadata": {},
   "outputs": [
    {
     "name": "stderr",
     "output_type": "stream",
     "text": [
      "/Users/aapiskotin/anaconda3/envs/python3/lib/python3.6/site-packages/sklearn/preprocessing/data.py:645: DataConversionWarning: Data with input dtype int64, float64 were all converted to float64 by StandardScaler.\n",
      "  return self.partial_fit(X, y)\n",
      "/Users/aapiskotin/anaconda3/envs/python3/lib/python3.6/site-packages/sklearn/base.py:464: DataConversionWarning: Data with input dtype int64, float64 were all converted to float64 by StandardScaler.\n",
      "  return self.fit(X, **fit_params).transform(X)\n",
      "/Users/aapiskotin/anaconda3/envs/python3/lib/python3.6/site-packages/ipykernel_launcher.py:6: DataConversionWarning: Data with input dtype int64, float64 were all converted to float64 by StandardScaler.\n",
      "  \n"
     ]
    }
   ],
   "source": [
    "from sklearn.preprocessing import StandardScaler\n",
    "\n",
    "scaler = StandardScaler()\n",
    "\n",
    "title_num_features_train = scaler.fit_transform(data_train.loc[:, title_features_columns])\n",
    "title_num_features_test = scaler.transform(data_test.loc[:, title_features_columns])"
   ]
  },
  {
   "cell_type": "code",
   "execution_count": 16,
   "metadata": {},
   "outputs": [],
   "source": [
    "import pymorphy2 as morphy\n",
    "import string\n",
    "from functools import lru_cache\n",
    "\n",
    "morpher = morphy.MorphAnalyzer()"
   ]
  },
  {
   "cell_type": "code",
   "execution_count": 17,
   "metadata": {},
   "outputs": [],
   "source": [
    "@lru_cache(maxsize=100000)\n",
    "def get_normal_form (word):\n",
    "    return morpher.normal_forms(word)[0]"
   ]
  },
  {
   "cell_type": "code",
   "execution_count": 18,
   "metadata": {},
   "outputs": [],
   "source": [
    "def text_normalizer(text):\n",
    "    text = text.translate(str.maketrans(string.punctuation, ' ' * len(string.punctuation))).lower()\n",
    "    words = text.split()\n",
    "    normalized_text = ''\n",
    "    for word in words:\n",
    "        normalized_text += get_normal_form(word) + ' '\n",
    "        \n",
    "    return normalized_text.rstrip()"
   ]
  },
  {
   "cell_type": "code",
   "execution_count": 19,
   "metadata": {},
   "outputs": [],
   "source": [
    "from multiprocessing import Pool"
   ]
  },
  {
   "cell_type": "code",
   "execution_count": 20,
   "metadata": {},
   "outputs": [
    {
     "name": "stdout",
     "output_type": "stream",
     "text": [
      "CPU times: user 681 ms, sys: 224 ms, total: 906 ms\n",
      "Wall time: 19.4 s\n"
     ]
    }
   ],
   "source": [
    "%%time\n",
    "with Pool(processes=4) as pool:\n",
    "    data_train['title'] = pool.map(text_normalizer, data_train.title)\n",
    "    data_test['title'] = pool.map(text_normalizer, data_test.title)\n",
    "    pool.terminate()"
   ]
  },
  {
   "cell_type": "code",
   "execution_count": 21,
   "metadata": {},
   "outputs": [],
   "source": [
    "from sklearn.feature_extraction.text import CountVectorizer\n",
    "\n",
    "title_proc = CountVectorizer()\n",
    "\n",
    "train_title_counted = title_proc.fit_transform(data_train['title'])\n",
    "test_title_counted = title_proc.transform(data_test['title'])"
   ]
  },
  {
   "cell_type": "code",
   "execution_count": 22,
   "metadata": {},
   "outputs": [],
   "source": [
    "title_features_train = sp.hstack((train_title_counted, title_num_features_train))\n",
    "title_features_test = sp.hstack((test_title_counted, title_num_features_test))"
   ]
  },
  {
   "cell_type": "markdown",
   "metadata": {},
   "source": [
    "## Время:\n",
    "- вводим гармонические функции\n",
    "- выделяем день недели"
   ]
  },
  {
   "cell_type": "code",
   "execution_count": 23,
   "metadata": {},
   "outputs": [],
   "source": [
    "def make_harmonic_features(value, period=24):\n",
    "    value = (value / period) * 2 * np.pi\n",
    "    return np.cos(value), np.sin(value)\n",
    "\n",
    "data_train['cos_time'] = data_train.start_time.apply(lambda x: make_harmonic_features(x.hour + x.minute / 60)[0])\n",
    "data_train['sin_time'] = data_train.start_time.apply(lambda x: make_harmonic_features(x.hour + x.minute / 60)[0])\n",
    "\n",
    "data_test['cos_time'] = data_test.start_time.apply(lambda x: make_harmonic_features(x.hour + x.minute / 60)[0])\n",
    "data_test['sin_time'] = data_test.start_time.apply(lambda x: make_harmonic_features(x.hour + x.minute / 60)[0])\n",
    "\n",
    "data_train['week_day'] = data_train.start_time.apply(lambda x: x.isoweekday())\n",
    "data_test['week_day'] = data_test.start_time.apply(lambda x: x.isoweekday())"
   ]
  },
  {
   "cell_type": "code",
   "execution_count": 24,
   "metadata": {},
   "outputs": [],
   "source": [
    "time_harmonic_features_train = scaler.fit_transform(data_train.loc[:, ['cos_time', 'sin_time']])\n",
    "time_harmonic_features_test = scaler.transform(data_test.loc[:, ['cos_time', 'sin_time']])"
   ]
  },
  {
   "cell_type": "code",
   "execution_count": 25,
   "metadata": {},
   "outputs": [
    {
     "name": "stderr",
     "output_type": "stream",
     "text": [
      "/Users/aapiskotin/anaconda3/envs/python3/lib/python3.6/site-packages/sklearn/preprocessing/_encoders.py:371: FutureWarning: The handling of integer data will change in version 0.22. Currently, the categories are determined based on the range [0, max(values)], while in the future they will be determined based on the unique values.\n",
      "If you want the future behaviour and silence this warning, you can specify \"categories='auto'\".\n",
      "In case you used a LabelEncoder before this OneHotEncoder to convert the categories to integers, then you can now use the OneHotEncoder directly.\n",
      "  warnings.warn(msg, FutureWarning)\n"
     ]
    }
   ],
   "source": [
    "from sklearn.preprocessing import OneHotEncoder\n",
    "\n",
    "oh_encoder = OneHotEncoder()\n",
    "\n",
    "time_week_feature_train = oh_encoder.fit_transform(np.array(data_train['week_day']).reshape(-1, 1))\n",
    "time_week_feature_test = oh_encoder.transform(np.array(data_test['week_day']).reshape(-1, 1))"
   ]
  },
  {
   "cell_type": "code",
   "execution_count": 26,
   "metadata": {},
   "outputs": [],
   "source": [
    "time_features_train = sp.hstack((time_harmonic_features_train, time_week_feature_train))\n",
    "time_features_test = sp.hstack((time_harmonic_features_test, time_week_feature_test))"
   ]
  },
  {
   "cell_type": "markdown",
   "metadata": {},
   "source": [
    "## Все категориальные признаки => OneHot\n",
    "предварительно избавившись от NaN"
   ]
  },
  {
   "cell_type": "markdown",
   "metadata": {},
   "source": [
    "paramN придется выкинуть, т.к. в тесте в данных колонках встречаются категории, которых нет в трейне"
   ]
  },
  {
   "cell_type": "code",
   "execution_count": 29,
   "metadata": {},
   "outputs": [],
   "source": [
    "cat_features = ['owner_type', 'category', 'subcategory', 'region']"
   ]
  },
  {
   "cell_type": "code",
   "execution_count": 30,
   "metadata": {},
   "outputs": [],
   "source": [
    "cat_features_train = oh_encoder.fit_transform(data_train.loc[:, cat_features])\n",
    "cat_features_test = oh_encoder.transform(data_test.loc[:, cat_features])"
   ]
  },
  {
   "cell_type": "markdown",
   "metadata": {},
   "source": [
    "## Финиш\n",
    "Конкатенируем все признаки, обучаем модель"
   ]
  },
  {
   "cell_type": "code",
   "execution_count": 31,
   "metadata": {},
   "outputs": [],
   "source": [
    "X = sp.hstack((title_features_train, time_features_train, cat_features_train))\n",
    "X_test = sp.hstack((title_features_test, time_features_test, cat_features_test))\n",
    "y = data_train['item_views']"
   ]
  },
  {
   "cell_type": "code",
   "execution_count": 32,
   "metadata": {},
   "outputs": [],
   "source": [
    "from sklearn.model_selection import train_test_split\n",
    "\n",
    "X_train, X_val, y_train, y_val = train_test_split(X, y)"
   ]
  },
  {
   "cell_type": "markdown",
   "metadata": {},
   "source": [
    "### Протестируем различные модели:"
   ]
  },
  {
   "cell_type": "markdown",
   "metadata": {},
   "source": [
    "1) Линейная регрессия"
   ]
  },
  {
   "cell_type": "code",
   "execution_count": 42,
   "metadata": {},
   "outputs": [
    {
     "name": "stdout",
     "output_type": "stream",
     "text": [
      "CPU times: user 5min 25s, sys: 6.03 s, total: 5min 31s\n",
      "Wall time: 2min 59s\n"
     ]
    }
   ],
   "source": [
    "%%time\n",
    "from sklearn.linear_model import LinearRegression\n",
    "\n",
    "lin_regr = LinearRegression()\n",
    "lin_regr.fit(X_train, y_train)\n",
    "y_hat = lin_regr.predict(X_val)"
   ]
  },
  {
   "cell_type": "code",
   "execution_count": 43,
   "metadata": {},
   "outputs": [],
   "source": [
    "from sklearn.metrics import mean_squared_error, r2_score"
   ]
  },
  {
   "cell_type": "code",
   "execution_count": 44,
   "metadata": {},
   "outputs": [
    {
     "data": {
      "text/plain": [
       "0.5545557059332746"
      ]
     },
     "execution_count": 44,
     "metadata": {},
     "output_type": "execute_result"
    }
   ],
   "source": [
    "r2_score(y_val, y_hat)"
   ]
  },
  {
   "cell_type": "code",
   "execution_count": 45,
   "metadata": {},
   "outputs": [
    {
     "data": {
      "text/plain": [
       "0.6803039318710696"
      ]
     },
     "execution_count": 45,
     "metadata": {},
     "output_type": "execute_result"
    }
   ],
   "source": [
    "np.sqrt(mean_squared_error(y_val, y_hat))"
   ]
  },
  {
   "cell_type": "markdown",
   "metadata": {},
   "source": [
    "2) Дерево решений"
   ]
  },
  {
   "cell_type": "code",
   "execution_count": 49,
   "metadata": {},
   "outputs": [
    {
     "name": "stdout",
     "output_type": "stream",
     "text": [
      "CPU times: user 14min 27s, sys: 6.72 s, total: 14min 34s\n",
      "Wall time: 15min 15s\n"
     ]
    }
   ],
   "source": [
    "%%time\n",
    "from sklearn.tree import DecisionTreeRegressor\n",
    "\n",
    "tree_regr = DecisionTreeRegressor()\n",
    "tree_regr.fit(X_train, y_train)\n",
    "y_hat = tree_regr.predict(X_val)"
   ]
  },
  {
   "cell_type": "code",
   "execution_count": 50,
   "metadata": {},
   "outputs": [
    {
     "data": {
      "text/plain": [
       "0.3871530853409675"
      ]
     },
     "execution_count": 50,
     "metadata": {},
     "output_type": "execute_result"
    }
   ],
   "source": [
    "r2_score(y_val, y_hat)"
   ]
  },
  {
   "cell_type": "code",
   "execution_count": 51,
   "metadata": {},
   "outputs": [
    {
     "data": {
      "text/plain": [
       "0.7979621336598043"
      ]
     },
     "execution_count": 51,
     "metadata": {},
     "output_type": "execute_result"
    }
   ],
   "source": [
    "np.sqrt(mean_squared_error(y_val, y_hat))"
   ]
  },
  {
   "cell_type": "markdown",
   "metadata": {},
   "source": [
    "3) KNN"
   ]
  },
  {
   "cell_type": "code",
   "execution_count": 55,
   "metadata": {},
   "outputs": [
    {
     "name": "stdout",
     "output_type": "stream",
     "text": [
      "CPU times: user 52.6 ms, sys: 45.1 ms, total: 97.7 ms\n",
      "Wall time: 70.3 ms\n"
     ]
    }
   ],
   "source": [
    "%%time\n",
    "from sklearn.neighbors import KNeighborsRegressor\n",
    "\n",
    "knn_regr = KNeighborsRegressor()\n",
    "knn_regr.fit(X_train, y_train)"
   ]
  },
  {
   "cell_type": "code",
   "execution_count": 56,
   "metadata": {},
   "outputs": [],
   "source": [
    "y_hat = knn_regr.predict(X_val)"
   ]
  },
  {
   "cell_type": "code",
   "execution_count": 57,
   "metadata": {},
   "outputs": [
    {
     "data": {
      "text/plain": [
       "0.5427845021585207"
      ]
     },
     "execution_count": 57,
     "metadata": {},
     "output_type": "execute_result"
    }
   ],
   "source": [
    "r2_score(y_val, y_hat)"
   ]
  },
  {
   "cell_type": "code",
   "execution_count": 58,
   "metadata": {},
   "outputs": [
    {
     "data": {
      "text/plain": [
       "0.6892340940198036"
      ]
     },
     "execution_count": 58,
     "metadata": {},
     "output_type": "execute_result"
    }
   ],
   "source": [
    "np.sqrt(mean_squared_error(y_val, y_hat))"
   ]
  },
  {
   "cell_type": "markdown",
   "metadata": {},
   "source": [
    "# Сабмит"
   ]
  },
  {
   "cell_type": "code",
   "execution_count": 59,
   "metadata": {},
   "outputs": [],
   "source": [
    "y_pred = knn_regr.predict(X_test)"
   ]
  },
  {
   "cell_type": "code",
   "execution_count": 61,
   "metadata": {},
   "outputs": [],
   "source": [
    "pd.DataFrame({'id': data_test.id, 'item_views':y_pred}).to_csv('my_pred.csv', index=None)"
   ]
  }
 ],
 "metadata": {
  "kernelspec": {
   "display_name": "Python 3",
   "language": "python",
   "name": "python3"
  },
  "language_info": {
   "codemirror_mode": {
    "name": "ipython",
    "version": 3
   },
   "file_extension": ".py",
   "mimetype": "text/x-python",
   "name": "python",
   "nbconvert_exporter": "python",
   "pygments_lexer": "ipython3",
   "version": "3.6.8"
  },
  "latex_envs": {
   "LaTeX_envs_menu_present": true,
   "autoclose": false,
   "autocomplete": true,
   "bibliofile": "biblio.bib",
   "cite_by": "apalike",
   "current_citInitial": 1,
   "eqLabelWithNumbers": true,
   "eqNumInitial": 1,
   "hotkeys": {
    "equation": "Ctrl-E",
    "itemize": "Ctrl-I"
   },
   "labels_anchors": false,
   "latex_user_defs": false,
   "report_style_numbering": false,
   "user_envs_cfg": false
  }
 },
 "nbformat": 4,
 "nbformat_minor": 2
}
