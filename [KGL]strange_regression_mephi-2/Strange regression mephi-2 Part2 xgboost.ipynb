{
 "cells": [
  {
   "cell_type": "markdown",
   "metadata": {},
   "source": [
    "# Strange regression mephi-2\n",
    "\n",
    "https://www.kaggle.com/c/strange-regression-mephi-2"
   ]
  },
  {
   "cell_type": "markdown",
   "metadata": {},
   "source": [
    "Импортируем джентельменский набор"
   ]
  },
  {
   "cell_type": "code",
   "execution_count": 19,
   "metadata": {},
   "outputs": [],
   "source": [
    "import pandas as pd\n",
    "import numpy as np\n",
    "import scipy.sparse as sp"
   ]
  },
  {
   "cell_type": "markdown",
   "metadata": {},
   "source": [
    "Загружаем данные и начинаем работу с ними"
   ]
  },
  {
   "cell_type": "code",
   "execution_count": 2,
   "metadata": {},
   "outputs": [],
   "source": [
    "data_train = pd.read_csv(\"data/kagle_train.csv\", parse_dates=['start_time'], index_col='item_id')"
   ]
  },
  {
   "cell_type": "code",
   "execution_count": 3,
   "metadata": {},
   "outputs": [],
   "source": [
    "data_test = pd.read_csv('data/regr_test.csv', parse_dates=['start_time'])"
   ]
  },
  {
   "cell_type": "code",
   "execution_count": 4,
   "metadata": {},
   "outputs": [
    {
     "data": {
      "text/html": [
       "<div>\n",
       "<style scoped>\n",
       "    .dataframe tbody tr th:only-of-type {\n",
       "        vertical-align: middle;\n",
       "    }\n",
       "\n",
       "    .dataframe tbody tr th {\n",
       "        vertical-align: top;\n",
       "    }\n",
       "\n",
       "    .dataframe thead th {\n",
       "        text-align: right;\n",
       "    }\n",
       "</style>\n",
       "<table border=\"1\" class=\"dataframe\">\n",
       "  <thead>\n",
       "    <tr style=\"text-align: right;\">\n",
       "      <th></th>\n",
       "      <th>id</th>\n",
       "      <th>start_time</th>\n",
       "      <th>title</th>\n",
       "      <th>price</th>\n",
       "      <th>owner_type</th>\n",
       "      <th>category</th>\n",
       "      <th>subcategory</th>\n",
       "      <th>param1</th>\n",
       "      <th>param2</th>\n",
       "      <th>param3</th>\n",
       "      <th>region</th>\n",
       "      <th>item_views</th>\n",
       "    </tr>\n",
       "    <tr>\n",
       "      <th>item_id</th>\n",
       "      <th></th>\n",
       "      <th></th>\n",
       "      <th></th>\n",
       "      <th></th>\n",
       "      <th></th>\n",
       "      <th></th>\n",
       "      <th></th>\n",
       "      <th></th>\n",
       "      <th></th>\n",
       "      <th></th>\n",
       "      <th></th>\n",
       "      <th></th>\n",
       "    </tr>\n",
       "  </thead>\n",
       "  <tbody>\n",
       "    <tr>\n",
       "      <th>5705898845763758734</th>\n",
       "      <td>329407</td>\n",
       "      <td>2016-12-26 17:37:44</td>\n",
       "      <td>Эрго-рюкзак love carry</td>\n",
       "      <td>500</td>\n",
       "      <td>Company</td>\n",
       "      <td>Личные вещи</td>\n",
       "      <td>Товары для детей и игрушки</td>\n",
       "      <td>Игрушки</td>\n",
       "      <td>NaN</td>\n",
       "      <td>NaN</td>\n",
       "      <td>Ивановская область</td>\n",
       "      <td>3.258097</td>\n",
       "    </tr>\n",
       "    <tr>\n",
       "      <th>2724359157403861389</th>\n",
       "      <td>91688</td>\n",
       "      <td>2016-12-28 18:16:00</td>\n",
       "      <td>30 от цены. Электронная книга</td>\n",
       "      <td>3800</td>\n",
       "      <td>Private</td>\n",
       "      <td>Бытовая электроника</td>\n",
       "      <td>Планшеты и электронные книги</td>\n",
       "      <td>Электронные книги</td>\n",
       "      <td>NaN</td>\n",
       "      <td>NaN</td>\n",
       "      <td>Самарская область</td>\n",
       "      <td>4.584967</td>\n",
       "    </tr>\n",
       "    <tr>\n",
       "      <th>3177615282527920911</th>\n",
       "      <td>350468</td>\n",
       "      <td>2016-12-28 18:10:17</td>\n",
       "      <td>Сапоги замшевые carlo pazolini 39р</td>\n",
       "      <td>5000</td>\n",
       "      <td>Private</td>\n",
       "      <td>Личные вещи</td>\n",
       "      <td>Одежда, обувь, аксессуары</td>\n",
       "      <td>Женская одежда</td>\n",
       "      <td>Обувь</td>\n",
       "      <td>39</td>\n",
       "      <td>Красноярский край</td>\n",
       "      <td>3.688879</td>\n",
       "    </tr>\n",
       "    <tr>\n",
       "      <th>294337942887387431</th>\n",
       "      <td>94285</td>\n",
       "      <td>2016-12-26 08:02:40</td>\n",
       "      <td>Черепаха в дар</td>\n",
       "      <td>0</td>\n",
       "      <td>Company</td>\n",
       "      <td>Животные</td>\n",
       "      <td>Аквариум</td>\n",
       "      <td>NaN</td>\n",
       "      <td>NaN</td>\n",
       "      <td>NaN</td>\n",
       "      <td>Курская область</td>\n",
       "      <td>3.891820</td>\n",
       "    </tr>\n",
       "    <tr>\n",
       "      <th>152786503366182060</th>\n",
       "      <td>344389</td>\n",
       "      <td>2016-12-28 21:38:00</td>\n",
       "      <td>Шикарное платье</td>\n",
       "      <td>1500</td>\n",
       "      <td>Private</td>\n",
       "      <td>Личные вещи</td>\n",
       "      <td>Детская одежда и обувь</td>\n",
       "      <td>Для девочек</td>\n",
       "      <td>Платья и юбки</td>\n",
       "      <td>110-116 см (4-6 лет)</td>\n",
       "      <td>Нижегородская область</td>\n",
       "      <td>4.158883</td>\n",
       "    </tr>\n",
       "  </tbody>\n",
       "</table>\n",
       "</div>"
      ],
      "text/plain": [
       "                         id          start_time  \\\n",
       "item_id                                           \n",
       "5705898845763758734  329407 2016-12-26 17:37:44   \n",
       "2724359157403861389   91688 2016-12-28 18:16:00   \n",
       "3177615282527920911  350468 2016-12-28 18:10:17   \n",
       "294337942887387431    94285 2016-12-26 08:02:40   \n",
       "152786503366182060   344389 2016-12-28 21:38:00   \n",
       "\n",
       "                                                  title  price owner_type  \\\n",
       "item_id                                                                     \n",
       "5705898845763758734              Эрго-рюкзак love carry    500    Company   \n",
       "2724359157403861389       30 от цены. Электронная книга   3800    Private   \n",
       "3177615282527920911  Сапоги замшевые carlo pazolini 39р   5000    Private   \n",
       "294337942887387431                       Черепаха в дар      0    Company   \n",
       "152786503366182060                      Шикарное платье   1500    Private   \n",
       "\n",
       "                                category                   subcategory  \\\n",
       "item_id                                                                  \n",
       "5705898845763758734          Личные вещи    Товары для детей и игрушки   \n",
       "2724359157403861389  Бытовая электроника  Планшеты и электронные книги   \n",
       "3177615282527920911          Личные вещи     Одежда, обувь, аксессуары   \n",
       "294337942887387431              Животные                      Аквариум   \n",
       "152786503366182060           Личные вещи        Детская одежда и обувь   \n",
       "\n",
       "                                param1         param2                param3  \\\n",
       "item_id                                                                       \n",
       "5705898845763758734            Игрушки            NaN                   NaN   \n",
       "2724359157403861389  Электронные книги            NaN                   NaN   \n",
       "3177615282527920911     Женская одежда          Обувь                    39   \n",
       "294337942887387431                 NaN            NaN                   NaN   \n",
       "152786503366182060         Для девочек  Платья и юбки  110-116 см (4-6 лет)   \n",
       "\n",
       "                                    region  item_views  \n",
       "item_id                                                 \n",
       "5705898845763758734     Ивановская область    3.258097  \n",
       "2724359157403861389      Самарская область    4.584967  \n",
       "3177615282527920911      Красноярский край    3.688879  \n",
       "294337942887387431         Курская область    3.891820  \n",
       "152786503366182060   Нижегородская область    4.158883  "
      ]
     },
     "execution_count": 4,
     "metadata": {},
     "output_type": "execute_result"
    }
   ],
   "source": [
    "data_train.sample(5)"
   ]
  },
  {
   "cell_type": "code",
   "execution_count": 5,
   "metadata": {},
   "outputs": [
    {
     "data": {
      "text/html": [
       "<div>\n",
       "<style scoped>\n",
       "    .dataframe tbody tr th:only-of-type {\n",
       "        vertical-align: middle;\n",
       "    }\n",
       "\n",
       "    .dataframe tbody tr th {\n",
       "        vertical-align: top;\n",
       "    }\n",
       "\n",
       "    .dataframe thead th {\n",
       "        text-align: right;\n",
       "    }\n",
       "</style>\n",
       "<table border=\"1\" class=\"dataframe\">\n",
       "  <thead>\n",
       "    <tr style=\"text-align: right;\">\n",
       "      <th></th>\n",
       "      <th>id</th>\n",
       "      <th>start_time</th>\n",
       "      <th>title</th>\n",
       "      <th>price</th>\n",
       "      <th>item_id</th>\n",
       "      <th>owner_type</th>\n",
       "      <th>category</th>\n",
       "      <th>subcategory</th>\n",
       "      <th>param1</th>\n",
       "      <th>param2</th>\n",
       "      <th>param3</th>\n",
       "      <th>region</th>\n",
       "    </tr>\n",
       "  </thead>\n",
       "  <tbody>\n",
       "    <tr>\n",
       "      <th>12575</th>\n",
       "      <td>157424</td>\n",
       "      <td>2016-12-26 15:37:06</td>\n",
       "      <td>Мзса-К 233</td>\n",
       "      <td>47402</td>\n",
       "      <td>310997009152403822</td>\n",
       "      <td>Shop</td>\n",
       "      <td>Транспорт</td>\n",
       "      <td>Запчасти и аксессуары</td>\n",
       "      <td>Прицепы</td>\n",
       "      <td>NaN</td>\n",
       "      <td>NaN</td>\n",
       "      <td>Санкт-Петербург</td>\n",
       "    </tr>\n",
       "    <tr>\n",
       "      <th>40251</th>\n",
       "      <td>350700</td>\n",
       "      <td>2016-12-28 16:52:34</td>\n",
       "      <td>Nissan Almera, 2004</td>\n",
       "      <td>265000</td>\n",
       "      <td>2150371097303435466</td>\n",
       "      <td>Company</td>\n",
       "      <td>Транспорт</td>\n",
       "      <td>Автомобили</td>\n",
       "      <td>С пробегом</td>\n",
       "      <td>Nissan</td>\n",
       "      <td>Almera</td>\n",
       "      <td>Краснодарский край</td>\n",
       "    </tr>\n",
       "    <tr>\n",
       "      <th>39189</th>\n",
       "      <td>343276</td>\n",
       "      <td>2016-12-27 10:25:38</td>\n",
       "      <td>Магнитола Sony CFD-RG880CP</td>\n",
       "      <td>5000</td>\n",
       "      <td>4183488402914497302</td>\n",
       "      <td>Company</td>\n",
       "      <td>Бытовая электроника</td>\n",
       "      <td>Аудио и видео</td>\n",
       "      <td>Музыкальные центры, магнитолы</td>\n",
       "      <td>NaN</td>\n",
       "      <td>NaN</td>\n",
       "      <td>Краснодарский край</td>\n",
       "    </tr>\n",
       "    <tr>\n",
       "      <th>16893</th>\n",
       "      <td>224337</td>\n",
       "      <td>2016-12-27 15:51:33</td>\n",
       "      <td>Айфон 5 s</td>\n",
       "      <td>13000</td>\n",
       "      <td>5907889794881664344</td>\n",
       "      <td>Private</td>\n",
       "      <td>Бытовая электроника</td>\n",
       "      <td>Телефоны</td>\n",
       "      <td>iPhone</td>\n",
       "      <td>NaN</td>\n",
       "      <td>NaN</td>\n",
       "      <td>Краснодарский край</td>\n",
       "    </tr>\n",
       "    <tr>\n",
       "      <th>33120</th>\n",
       "      <td>283950</td>\n",
       "      <td>2016-12-28 16:41:03</td>\n",
       "      <td>Дом 54 м? на участке 6 сот.</td>\n",
       "      <td>3750000</td>\n",
       "      <td>6496950207402085953</td>\n",
       "      <td>Shop</td>\n",
       "      <td>Недвижимость</td>\n",
       "      <td>Дома, дачи, коттеджи</td>\n",
       "      <td>Продам</td>\n",
       "      <td>Дом</td>\n",
       "      <td>NaN</td>\n",
       "      <td>Калужская область</td>\n",
       "    </tr>\n",
       "  </tbody>\n",
       "</table>\n",
       "</div>"
      ],
      "text/plain": [
       "           id          start_time                        title    price  \\\n",
       "12575  157424 2016-12-26 15:37:06                   Мзса-К 233    47402   \n",
       "40251  350700 2016-12-28 16:52:34          Nissan Almera, 2004   265000   \n",
       "39189  343276 2016-12-27 10:25:38   Магнитола Sony CFD-RG880CP     5000   \n",
       "16893  224337 2016-12-27 15:51:33                    Айфон 5 s    13000   \n",
       "33120  283950 2016-12-28 16:41:03  Дом 54 м? на участке 6 сот.  3750000   \n",
       "\n",
       "                   item_id owner_type             category  \\\n",
       "12575   310997009152403822       Shop            Транспорт   \n",
       "40251  2150371097303435466    Company            Транспорт   \n",
       "39189  4183488402914497302    Company  Бытовая электроника   \n",
       "16893  5907889794881664344    Private  Бытовая электроника   \n",
       "33120  6496950207402085953       Shop         Недвижимость   \n",
       "\n",
       "                 subcategory                         param1  param2  param3  \\\n",
       "12575  Запчасти и аксессуары                        Прицепы     NaN     NaN   \n",
       "40251             Автомобили                     С пробегом  Nissan  Almera   \n",
       "39189          Аудио и видео  Музыкальные центры, магнитолы     NaN     NaN   \n",
       "16893               Телефоны                         iPhone     NaN     NaN   \n",
       "33120   Дома, дачи, коттеджи                         Продам     Дом     NaN   \n",
       "\n",
       "                   region  \n",
       "12575     Санкт-Петербург  \n",
       "40251  Краснодарский край  \n",
       "39189  Краснодарский край  \n",
       "16893  Краснодарский край  \n",
       "33120   Калужская область  "
      ]
     },
     "execution_count": 5,
     "metadata": {},
     "output_type": "execute_result"
    }
   ],
   "source": [
    "data_test.sample(5)"
   ]
  },
  {
   "cell_type": "markdown",
   "metadata": {},
   "source": [
    "## Выделяем признаки:\n",
    "- количество заглавных букв\n",
    "- количество \"!\"\n",
    "- плотность заглавных букв и '!'\n",
    "- количество латинских символов\n",
    "- длина заголовка\n",
    "- количество цифр\n",
    "- для текста:\n",
    "    - избавляемся от пунктуации\n",
    "    - нормализуем слова\n",
    "    - Генерируем CountVectorized\n",
    "- Время:\n",
    "    - вводим гармонические функции\n",
    "    - выделяем день недели"
   ]
  },
  {
   "cell_type": "code",
   "execution_count": 6,
   "metadata": {},
   "outputs": [],
   "source": [
    "def count_uppercase(text):\n",
    "    counter = 0\n",
    "    for c in text:\n",
    "        if c.isupper():\n",
    "            counter += 1\n",
    "            \n",
    "    return counter"
   ]
  },
  {
   "cell_type": "code",
   "execution_count": 7,
   "metadata": {},
   "outputs": [],
   "source": [
    "def count_exclaim_mark(text):\n",
    "    counter = 0\n",
    "    for c in text:\n",
    "        if c == '!':\n",
    "            counter += 1\n",
    "            \n",
    "    return counter"
   ]
  },
  {
   "cell_type": "code",
   "execution_count": 8,
   "metadata": {},
   "outputs": [],
   "source": [
    "import re\n",
    "\n",
    "english_check = re.compile(r'[a-z]')\n",
    "\n",
    "def count_eng(text):\n",
    "    counter = 0\n",
    "    for c in text:\n",
    "        if english_check.match(c):\n",
    "            counter += 1\n",
    "            \n",
    "    return counter"
   ]
  },
  {
   "cell_type": "code",
   "execution_count": 9,
   "metadata": {},
   "outputs": [],
   "source": [
    "def count_digits(text):\n",
    "    counter = 0\n",
    "    for c in text:\n",
    "        if c.isdigit():\n",
    "            counter += 1\n",
    "            \n",
    "    return counter"
   ]
  },
  {
   "cell_type": "code",
   "execution_count": 10,
   "metadata": {},
   "outputs": [],
   "source": [
    "def make_harmonic_features(value, period=24):\n",
    "    value = (value / period) * 2 * np.pi\n",
    "    return np.cos(value), np.sin(value)"
   ]
  },
  {
   "cell_type": "code",
   "execution_count": 11,
   "metadata": {},
   "outputs": [],
   "source": [
    "import pymorphy2 as morphy\n",
    "import string\n",
    "from functools import lru_cache\n",
    "\n",
    "morpher = morphy.MorphAnalyzer()"
   ]
  },
  {
   "cell_type": "code",
   "execution_count": 12,
   "metadata": {},
   "outputs": [],
   "source": [
    "@lru_cache(maxsize=100000)\n",
    "def get_normal_form (word):\n",
    "    return morpher.normal_forms(word)[0]"
   ]
  },
  {
   "cell_type": "code",
   "execution_count": 13,
   "metadata": {},
   "outputs": [],
   "source": [
    "def text_normalizer(text):\n",
    "    text = text.translate(str.maketrans(string.punctuation, ' ' * len(string.punctuation))).lower()\n",
    "    words = text.split()\n",
    "    normalized_text = ''\n",
    "    for word in words:\n",
    "        normalized_text += get_normal_form(word) + ' '\n",
    "        \n",
    "    return normalized_text.rstrip()"
   ]
  },
  {
   "cell_type": "code",
   "execution_count": 14,
   "metadata": {},
   "outputs": [],
   "source": [
    "title_features_columns = ['title_uc_!', 'title_uc_!_density', 'title_eng_count', 'title_len', 'title_digits', 'price']"
   ]
  },
  {
   "cell_type": "code",
   "execution_count": 15,
   "metadata": {},
   "outputs": [],
   "source": [
    "def feature_engineering(df):\n",
    "\n",
    "    df['title_uc'] = df['title'].apply(count_uppercase)\n",
    "    df['title_!'] = df['title'].apply(count_exclaim_mark)\n",
    "    df['title_len'] = df['title'].apply(len)\n",
    "    df['title_uc_!_density'] = (\n",
    "        df['title_!'] + df['title_uc']) / df['title_len']\n",
    "    df['title_eng_count'] = df['title'].apply(count_eng)\n",
    "    df['title_digits'] = df['title'].apply(count_digits)\n",
    "\n",
    "    df['title'] = df['title'].apply(text_normalizer)\n",
    "\n",
    "    df['cos_time'] = df['start_time'].apply(\n",
    "        lambda x: make_harmonic_features(x.hour + x.minute / 60)[0])\n",
    "    df['sin_time'] = df['start_time'].apply(\n",
    "        lambda x: make_harmonic_features(x.hour + x.minute / 60)[1])\n",
    "    df['week_day'] = df['start_time'].apply(lambda x: x.isoweekday())"
   ]
  },
  {
   "cell_type": "code",
   "execution_count": 16,
   "metadata": {},
   "outputs": [],
   "source": [
    "from multiprocessing import Pool"
   ]
  },
  {
   "cell_type": "code",
   "execution_count": 17,
   "metadata": {},
   "outputs": [
    {
     "name": "stdout",
     "output_type": "stream",
     "text": [
      "CPU times: user 43.2 s, sys: 539 ms, total: 43.7 s\n",
      "Wall time: 43.2 s\n"
     ]
    },
    {
     "data": {
      "application/javascript": [
       "$(document).ready(\n",
       "    function() {\n",
       "        function appendUniqueDiv(){\n",
       "            // append a div with our uuid so we can check that it's already\n",
       "            // been sent and avoid duplicates on page reload\n",
       "            var notifiedDiv = document.createElement(\"div\")\n",
       "            notifiedDiv.id = \"572c38ea-9a2d-4eaf-862d-629b9c66a6ab\"\n",
       "            element.append(notifiedDiv)\n",
       "        }\n",
       "\n",
       "        // only send notifications if the pageload is complete; this will\n",
       "        // help stop extra notifications when a saved notebook is loaded,\n",
       "        // which during testing gives us state \"interactive\", not \"complete\"\n",
       "        if (document.readyState === 'complete') {\n",
       "            // check for the div that signifies that the notification\n",
       "            // was already sent\n",
       "            if (document.getElementById(\"572c38ea-9a2d-4eaf-862d-629b9c66a6ab\") === null) {\n",
       "                var notificationPayload = {\"requireInteraction\": false, \"icon\": \"/static/base/images/favicon.ico\", \"body\": \"Cell execution has finished!\"};\n",
       "                if (Notification.permission !== 'denied') {\n",
       "                    if (Notification.permission !== 'granted') { \n",
       "                        Notification.requestPermission(function (permission) {\n",
       "                            if(!('permission' in Notification)) {\n",
       "                                Notification.permission = permission\n",
       "                            }\n",
       "                        })\n",
       "                    }\n",
       "                    if (Notification.permission === 'granted') {\n",
       "                    var notification = new Notification(\"Jupyter Notebook\", notificationPayload)\n",
       "                    appendUniqueDiv()\n",
       "                    notification.onclick = function () {\n",
       "                        window.focus();\n",
       "                        this.close();\n",
       "                        };\n",
       "                    } \n",
       "                }     \n",
       "            }\n",
       "        }\n",
       "    }\n",
       ")\n"
      ],
      "text/plain": [
       "<IPython.core.display.Javascript object>"
      ]
     },
     "metadata": {},
     "output_type": "display_data"
    }
   ],
   "source": [
    "%%notify\n",
    "%%time\n",
    "\n",
    "feature_engineering(data_train)\n",
    "feature_engineering(data_test)"
   ]
  },
  {
   "cell_type": "markdown",
   "metadata": {},
   "source": [
    "## Все категориальные признаки => OneHot\n",
    "предварительно избавившись от NaN"
   ]
  },
  {
   "cell_type": "code",
   "execution_count": 32,
   "metadata": {},
   "outputs": [],
   "source": [
    "data_train.fillna('nan', inplace=True)\n",
    "data_test.fillna('nan', inplace=True)"
   ]
  },
  {
   "cell_type": "code",
   "execution_count": 23,
   "metadata": {},
   "outputs": [],
   "source": [
    "cat_features_cols = ['owner_type', 'category', 'subcategory', 'param1', 'param2', 'param3', 'region', 'week_day']"
   ]
  },
  {
   "cell_type": "code",
   "execution_count": 22,
   "metadata": {},
   "outputs": [],
   "source": [
    "from sklearn.preprocessing import OneHotEncoder"
   ]
  },
  {
   "cell_type": "code",
   "execution_count": 31,
   "metadata": {},
   "outputs": [],
   "source": [
    "oh_encoder = OneHotEncoder(handle_unknown='ignore')\n",
    "\n",
    "cat_features_train = oh_encoder.fit_transform(data_train.loc[:, cat_features_cols])\n",
    "cat_features_test = oh_encoder.transform(data_test.loc[:, cat_features_cols])"
   ]
  },
  {
   "cell_type": "code",
   "execution_count": 33,
   "metadata": {},
   "outputs": [],
   "source": [
    "from sklearn.feature_extraction.text import CountVectorizer"
   ]
  },
  {
   "cell_type": "markdown",
   "metadata": {},
   "source": [
    "## Текст => СountVectorize"
   ]
  },
  {
   "cell_type": "code",
   "execution_count": 34,
   "metadata": {},
   "outputs": [],
   "source": [
    "text_vectorizer = CountVectorizer()\n",
    "\n",
    "title_features_train = text_vectorizer.fit_transform(data_train['title'])\n",
    "title_features_test = text_vectorizer.transform(data_test['title'])"
   ]
  },
  {
   "cell_type": "markdown",
   "metadata": {},
   "source": [
    "#### Собираем все признаки"
   ]
  },
  {
   "cell_type": "code",
   "execution_count": 36,
   "metadata": {},
   "outputs": [],
   "source": [
    "ready_feature_cols = ['price', 'title_uc', 'title_!', 'title_len',\n",
    "                      'title_uc_!_density', 'title_eng_count', 'title_digits', 'cos_time', 'sin_time']"
   ]
  },
  {
   "cell_type": "code",
   "execution_count": 37,
   "metadata": {},
   "outputs": [],
   "source": [
    "features_train = sp.hstack((title_features_train, cat_features_train, data_train.loc[:, ready_feature_cols]))\n",
    "features_test = sp.hstack((title_features_test, cat_features_test, data_test.loc[:, ready_feature_cols]))"
   ]
  },
  {
   "cell_type": "markdown",
   "metadata": {},
   "source": [
    "## Используемая модель - RandomForest с бустингом от xgboost"
   ]
  },
  {
   "cell_type": "code",
   "execution_count": 38,
   "metadata": {},
   "outputs": [],
   "source": [
    "import xgboost as xgb"
   ]
  },
  {
   "cell_type": "code",
   "execution_count": 40,
   "metadata": {
    "ExecuteTime": {
     "end_time": "2019-04-30T13:45:33.382762Z",
     "start_time": "2019-04-30T13:45:33.375423Z"
    }
   },
   "outputs": [],
   "source": [
    "from sklearn.model_selection import train_test_split"
   ]
  },
  {
   "cell_type": "code",
   "execution_count": 42,
   "metadata": {
    "ExecuteTime": {
     "end_time": "2019-04-30T13:45:33.954660Z",
     "start_time": "2019-04-30T13:45:33.777717Z"
    }
   },
   "outputs": [],
   "source": [
    "X_train, X_test, y_train, y_test = train_test_split(\n",
    "    features_train, data_train['item_views'], test_size=0.20, random_state=648, shuffle=True)"
   ]
  },
  {
   "cell_type": "code",
   "execution_count": 85,
   "metadata": {},
   "outputs": [],
   "source": [
    "xgb_params = {\n",
    "#     'objective': 'reg:squarederror',\n",
    "    'max_depth': 6,\n",
    "    'eta': 0.05,\n",
    "    'booster': 'gbtree',\n",
    "    \n",
    "    'alpha': 1.0,\n",
    "    'lambda': 0.1,\n",
    "    \n",
    "    'subsample': 0.9,\n",
    "    'colsample_bytree': 0.5,\n",
    "    'colsample_bylevel': 0.3,\n",
    "    \n",
    "    'seed': 648,\n",
    "    'nthread': 4,\n",
    "    'eval_metric':'rmse'\n",
    "}\n",
    "\n",
    "num_rounds = 10000"
   ]
  },
  {
   "cell_type": "code",
   "execution_count": 86,
   "metadata": {
    "ExecuteTime": {
     "end_time": "2019-04-30T13:46:54.434152Z",
     "start_time": "2019-04-30T13:45:34.100327Z"
    }
   },
   "outputs": [
    {
     "name": "stdout",
     "output_type": "stream",
     "text": [
      "[0]\ttrain-rmse:3.00464\teval-rmse:3.00913\n",
      "Multiple eval metrics have been passed: 'eval-rmse' will be used for early stopping.\n",
      "\n",
      "Will train until eval-rmse hasn't improved in 5 rounds.\n",
      "[200]\ttrain-rmse:0.638885\teval-rmse:0.6415\n",
      "[400]\ttrain-rmse:0.616263\teval-rmse:0.621961\n",
      "[600]\ttrain-rmse:0.602757\teval-rmse:0.611349\n",
      "[800]\ttrain-rmse:0.59263\teval-rmse:0.603855\n",
      "[1000]\ttrain-rmse:0.584938\teval-rmse:0.598599\n",
      "[1200]\ttrain-rmse:0.578253\teval-rmse:0.594164\n",
      "[1400]\ttrain-rmse:0.573133\teval-rmse:0.591028\n",
      "[1600]\ttrain-rmse:0.568161\teval-rmse:0.587976\n",
      "[1800]\ttrain-rmse:0.564106\teval-rmse:0.585634\n",
      "[2000]\ttrain-rmse:0.560217\teval-rmse:0.583513\n",
      "[2200]\ttrain-rmse:0.556559\teval-rmse:0.581477\n",
      "[2400]\ttrain-rmse:0.553375\teval-rmse:0.579813\n",
      "[2600]\ttrain-rmse:0.550078\teval-rmse:0.578114\n",
      "[2800]\ttrain-rmse:0.547381\teval-rmse:0.576797\n",
      "[3000]\ttrain-rmse:0.544579\teval-rmse:0.575494\n",
      "[3200]\ttrain-rmse:0.542125\teval-rmse:0.574375\n",
      "[3400]\ttrain-rmse:0.539811\teval-rmse:0.57335\n",
      "[3600]\ttrain-rmse:0.537477\teval-rmse:0.572336\n",
      "[3800]\ttrain-rmse:0.53542\teval-rmse:0.571496\n",
      "[4000]\ttrain-rmse:0.533479\teval-rmse:0.570696\n",
      "[4200]\ttrain-rmse:0.531536\teval-rmse:0.569901\n",
      "[4400]\ttrain-rmse:0.529697\teval-rmse:0.569145\n",
      "Stopping. Best iteration:\n",
      "[4466]\ttrain-rmse:0.52895\teval-rmse:0.568846\n",
      "\n",
      "CPU times: user 33min 44s, sys: 10.1 s, total: 33min 54s\n",
      "Wall time: 34min 20s\n"
     ]
    },
    {
     "data": {
      "application/javascript": [
       "$(document).ready(\n",
       "    function() {\n",
       "        function appendUniqueDiv(){\n",
       "            // append a div with our uuid so we can check that it's already\n",
       "            // been sent and avoid duplicates on page reload\n",
       "            var notifiedDiv = document.createElement(\"div\")\n",
       "            notifiedDiv.id = \"77cd84f4-7a47-4523-a976-b0c5559fd303\"\n",
       "            element.append(notifiedDiv)\n",
       "        }\n",
       "\n",
       "        // only send notifications if the pageload is complete; this will\n",
       "        // help stop extra notifications when a saved notebook is loaded,\n",
       "        // which during testing gives us state \"interactive\", not \"complete\"\n",
       "        if (document.readyState === 'complete') {\n",
       "            // check for the div that signifies that the notification\n",
       "            // was already sent\n",
       "            if (document.getElementById(\"77cd84f4-7a47-4523-a976-b0c5559fd303\") === null) {\n",
       "                var notificationPayload = {\"requireInteraction\": false, \"icon\": \"/static/base/images/favicon.ico\", \"body\": \"Cell execution has finished!\"};\n",
       "                if (Notification.permission !== 'denied') {\n",
       "                    if (Notification.permission !== 'granted') { \n",
       "                        Notification.requestPermission(function (permission) {\n",
       "                            if(!('permission' in Notification)) {\n",
       "                                Notification.permission = permission\n",
       "                            }\n",
       "                        })\n",
       "                    }\n",
       "                    if (Notification.permission === 'granted') {\n",
       "                    var notification = new Notification(\"Jupyter Notebook\", notificationPayload)\n",
       "                    appendUniqueDiv()\n",
       "                    notification.onclick = function () {\n",
       "                        window.focus();\n",
       "                        this.close();\n",
       "                        };\n",
       "                    } \n",
       "                }     \n",
       "            }\n",
       "        }\n",
       "    }\n",
       ")\n"
      ],
      "text/plain": [
       "<IPython.core.display.Javascript object>"
      ]
     },
     "metadata": {},
     "output_type": "display_data"
    }
   ],
   "source": [
    "%%notify\n",
    "%%time\n",
    "\n",
    "dtrain = xgb.DMatrix(X_train, label=y_train)\n",
    "dtest = xgb.DMatrix(X_test, label=y_test)\n",
    "\n",
    "watchlist = [(dtrain, 'train'), (dtest, 'eval')]\n",
    "eval_res ={}\n",
    "gbdt = xgb.train(xgb_params, dtrain,\n",
    "                 num_rounds, watchlist,\n",
    "                 early_stopping_rounds=5,\n",
    "                 verbose_eval=200,\n",
    "                 evals_result=eval_res)"
   ]
  },
  {
   "cell_type": "markdown",
   "metadata": {},
   "source": [
    "# Сабмит"
   ]
  },
  {
   "cell_type": "code",
   "execution_count": 87,
   "metadata": {},
   "outputs": [],
   "source": [
    "dtest_final = xgb.DMatrix(features_test)\n",
    "\n",
    "y_pred = gbdt.predict(dtest_final)\n",
    "\n",
    "pd.DataFrame({'id': data_test.id, 'item_views':y_pred}).to_csv('xgb_prediction.csv', index=None)"
   ]
  }
 ],
 "metadata": {
  "kernelspec": {
   "display_name": "Python 3",
   "language": "python",
   "name": "python3"
  },
  "language_info": {
   "codemirror_mode": {
    "name": "ipython",
    "version": 3
   },
   "file_extension": ".py",
   "mimetype": "text/x-python",
   "name": "python",
   "nbconvert_exporter": "python",
   "pygments_lexer": "ipython3",
   "version": "3.6.8"
  },
  "latex_envs": {
   "LaTeX_envs_menu_present": true,
   "autoclose": false,
   "autocomplete": true,
   "bibliofile": "biblio.bib",
   "cite_by": "apalike",
   "current_citInitial": 1,
   "eqLabelWithNumbers": true,
   "eqNumInitial": 1,
   "hotkeys": {
    "equation": "Ctrl-E",
    "itemize": "Ctrl-I"
   },
   "labels_anchors": false,
   "latex_user_defs": false,
   "report_style_numbering": false,
   "user_envs_cfg": false
  }
 },
 "nbformat": 4,
 "nbformat_minor": 2
}
