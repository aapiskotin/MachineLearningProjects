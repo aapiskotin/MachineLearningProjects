{
 "cells": [
  {
   "cell_type": "raw",
   "metadata": {},
   "source": [
    "Вам предстоит построить модель, которая в зависимости цены, заголовка, категории и времени размещения объявления предсказывает количество просмотров объявления до конца следующего дня с момента подачи.\n",
    "\n",
    "Описание данных\n",
    "start_time\tВремя подачи объявления (МСК)\n",
    "title\tЗаголовок объявления\n",
    "price\tЦена\n",
    "item_id\tИдентификатор объявления\n",
    "owner_type\tТип владельца объявления (Private – частный пользователь; Company – компания; Shop – владелец магазина)\n",
    "category\tКатегория объявления (Транспорт, недвижимость и т.д.)\n",
    "subcategory\tПодкатегория объявления\n",
    "param1, param2, param3 - Параметры объявления* свои для каждого узла в дереве категории\n",
    "region\t-  Регион размещения объявления\n",
    "item_views\t- Целевая переменная, логарифм просмотров объявления\n",
    "\n",
    "* На примере подкатегории «Детская одежда и обувь»\n",
    "• param1 = Вид одежды = «Для мальчиков» \n",
    "• param2 = Предмет одежды = “Верхняя одежда» \n",
    "• param3 = Размер = «50-56 cм (0-2 мес)»"
   ]
  },
  {
   "cell_type": "raw",
   "metadata": {},
   "source": []
  },
  {
   "cell_type": "code",
   "execution_count": 30,
   "metadata": {
    "ExecuteTime": {
     "end_time": "2019-04-23T13:29:53.035641Z",
     "start_time": "2019-04-23T13:29:52.428582Z"
    },
    "collapsed": true
   },
   "outputs": [],
   "source": [
    "import numpy as np\n",
    "import pandas as pd\n",
    "import matplotlib.pyplot as plt\n",
    "\n",
    "%matplotlib inline"
   ]
  },
  {
   "cell_type": "code",
   "execution_count": 31,
   "metadata": {
    "ExecuteTime": {
     "end_time": "2019-04-23T13:29:54.814646Z",
     "start_time": "2019-04-23T13:29:53.037797Z"
    },
    "collapsed": true
   },
   "outputs": [],
   "source": [
    "data_train = pd.read_csv('kagle_train.csv', sep=',', parse_dates=['start_time'])\n",
    "data_test = pd.read_csv('regr_test.csv', sep=',', parse_dates=['start_time'])"
   ]
  },
  {
   "cell_type": "code",
   "execution_count": 32,
   "metadata": {
    "ExecuteTime": {
     "end_time": "2019-04-23T13:30:04.445696Z",
     "start_time": "2019-04-23T13:30:04.218521Z"
    }
   },
   "outputs": [
    {
     "data": {
      "text/html": [
       "<div>\n",
       "<style scoped>\n",
       "    .dataframe tbody tr th:only-of-type {\n",
       "        vertical-align: middle;\n",
       "    }\n",
       "\n",
       "    .dataframe tbody tr th {\n",
       "        vertical-align: top;\n",
       "    }\n",
       "\n",
       "    .dataframe thead th {\n",
       "        text-align: right;\n",
       "    }\n",
       "</style>\n",
       "<table border=\"1\" class=\"dataframe\">\n",
       "  <thead>\n",
       "    <tr style=\"text-align: right;\">\n",
       "      <th></th>\n",
       "      <th>id</th>\n",
       "      <th>price</th>\n",
       "      <th>item_id</th>\n",
       "      <th>item_views</th>\n",
       "    </tr>\n",
       "  </thead>\n",
       "  <tbody>\n",
       "    <tr>\n",
       "      <th>count</th>\n",
       "      <td>376687.000000</td>\n",
       "      <td>3.766870e+05</td>\n",
       "      <td>3.766870e+05</td>\n",
       "      <td>376687.000000</td>\n",
       "    </tr>\n",
       "    <tr>\n",
       "      <th>mean</th>\n",
       "      <td>211784.700144</td>\n",
       "      <td>2.465498e+05</td>\n",
       "      <td>4.606439e+18</td>\n",
       "      <td>3.483459</td>\n",
       "    </tr>\n",
       "    <tr>\n",
       "      <th>std</th>\n",
       "      <td>122355.459807</td>\n",
       "      <td>1.126163e+07</td>\n",
       "      <td>2.663233e+18</td>\n",
       "      <td>1.019757</td>\n",
       "    </tr>\n",
       "    <tr>\n",
       "      <th>min</th>\n",
       "      <td>0.000000</td>\n",
       "      <td>0.000000e+00</td>\n",
       "      <td>6.694595e+13</td>\n",
       "      <td>0.000000</td>\n",
       "    </tr>\n",
       "    <tr>\n",
       "      <th>25%</th>\n",
       "      <td>105786.500000</td>\n",
       "      <td>5.000000e+02</td>\n",
       "      <td>2.296781e+18</td>\n",
       "      <td>2.708050</td>\n",
       "    </tr>\n",
       "    <tr>\n",
       "      <th>50%</th>\n",
       "      <td>211758.000000</td>\n",
       "      <td>2.000000e+03</td>\n",
       "      <td>4.606254e+18</td>\n",
       "      <td>3.367296</td>\n",
       "    </tr>\n",
       "    <tr>\n",
       "      <th>75%</th>\n",
       "      <td>317745.500000</td>\n",
       "      <td>9.990000e+03</td>\n",
       "      <td>6.912617e+18</td>\n",
       "      <td>4.094345</td>\n",
       "    </tr>\n",
       "    <tr>\n",
       "      <th>max</th>\n",
       "      <td>423771.000000</td>\n",
       "      <td>5.677568e+09</td>\n",
       "      <td>9.223325e+18</td>\n",
       "      <td>8.328693</td>\n",
       "    </tr>\n",
       "  </tbody>\n",
       "</table>\n",
       "</div>"
      ],
      "text/plain": [
       "                  id         price       item_id     item_views\n",
       "count  376687.000000  3.766870e+05  3.766870e+05  376687.000000\n",
       "mean   211784.700144  2.465498e+05  4.606439e+18       3.483459\n",
       "std    122355.459807  1.126163e+07  2.663233e+18       1.019757\n",
       "min         0.000000  0.000000e+00  6.694595e+13       0.000000\n",
       "25%    105786.500000  5.000000e+02  2.296781e+18       2.708050\n",
       "50%    211758.000000  2.000000e+03  4.606254e+18       3.367296\n",
       "75%    317745.500000  9.990000e+03  6.912617e+18       4.094345\n",
       "max    423771.000000  5.677568e+09  9.223325e+18       8.328693"
      ]
     },
     "execution_count": 32,
     "metadata": {},
     "output_type": "execute_result"
    }
   ],
   "source": [
    "data_train.describe()"
   ]
  },
  {
   "cell_type": "code",
   "execution_count": 33,
   "metadata": {
    "ExecuteTime": {
     "end_time": "2019-04-23T13:30:04.681164Z",
     "start_time": "2019-04-23T13:30:04.447970Z"
    }
   },
   "outputs": [
    {
     "name": "stdout",
     "output_type": "stream",
     "text": [
      "<class 'pandas.core.frame.DataFrame'>\n",
      "RangeIndex: 376687 entries, 0 to 376686\n",
      "Data columns (total 13 columns):\n",
      "id             376687 non-null int64\n",
      "start_time     376687 non-null datetime64[ns]\n",
      "title          376687 non-null object\n",
      "price          376687 non-null int64\n",
      "item_id        376687 non-null int64\n",
      "owner_type     376687 non-null object\n",
      "category       376687 non-null object\n",
      "subcategory    376687 non-null object\n",
      "param1         361456 non-null object\n",
      "param2         196112 non-null object\n",
      "param3         147746 non-null object\n",
      "region         376687 non-null object\n",
      "item_views     376687 non-null float64\n",
      "dtypes: datetime64[ns](1), float64(1), int64(3), object(8)\n",
      "memory usage: 37.4+ MB\n"
     ]
    }
   ],
   "source": [
    "data_train.info()"
   ]
  },
  {
   "cell_type": "code",
   "execution_count": 34,
   "metadata": {
    "ExecuteTime": {
     "end_time": "2019-04-23T13:30:04.946237Z",
     "start_time": "2019-04-23T13:30:04.682917Z"
    },
    "collapsed": true
   },
   "outputs": [],
   "source": [
    "data_train = data_train.fillna('nan')\n",
    "data_test = data_test.fillna('nan')"
   ]
  },
  {
   "cell_type": "code",
   "execution_count": 35,
   "metadata": {
    "ExecuteTime": {
     "end_time": "2019-04-23T13:30:05.148561Z",
     "start_time": "2019-04-23T13:30:04.947744Z"
    }
   },
   "outputs": [
    {
     "data": {
      "text/plain": [
       "False"
      ]
     },
     "execution_count": 35,
     "metadata": {},
     "output_type": "execute_result"
    }
   ],
   "source": [
    "np.any(data_train.isna())"
   ]
  },
  {
   "cell_type": "code",
   "execution_count": 36,
   "metadata": {
    "ExecuteTime": {
     "end_time": "2019-04-23T13:30:06.844306Z",
     "start_time": "2019-04-23T13:30:05.150767Z"
    },
    "collapsed": true
   },
   "outputs": [],
   "source": [
    "f = lambda x: (x.hour * 60 + x.minute) / (24 * 60)\n",
    "data_train['relative_time'] = data_train.start_time.apply(f)\n",
    "data_test['relative_time'] = data_test.start_time.apply(f)"
   ]
  },
  {
   "cell_type": "code",
   "execution_count": 38,
   "metadata": {
    "ExecuteTime": {
     "end_time": "2019-04-23T13:30:09.959985Z",
     "start_time": "2019-04-23T13:30:08.431651Z"
    },
    "collapsed": true
   },
   "outputs": [],
   "source": [
    "data_train['time_to_end'] = data_train.start_time.apply(lambda x: 24 - x.hour)\n",
    "data_test['time_to_end'] = data_test.start_time.apply(lambda x: 24 - x.hour)"
   ]
  },
  {
   "cell_type": "code",
   "execution_count": 39,
   "metadata": {
    "ExecuteTime": {
     "end_time": "2019-04-23T13:30:13.112614Z",
     "start_time": "2019-04-23T13:30:11.546273Z"
    },
    "collapsed": true
   },
   "outputs": [],
   "source": [
    "data_train['slided_hours'] = data_train.start_time.apply(lambda x: ((x.hour - 3.5) % 24) * 1. / 24.)\n",
    "data_test['slided_hours'] = data_test.start_time.apply(lambda x: ((x.hour - 3.5) % 24) * 1. / 24.)"
   ]
  },
  {
   "cell_type": "code",
   "execution_count": 40,
   "metadata": {
    "ExecuteTime": {
     "end_time": "2019-04-23T13:30:14.689948Z",
     "start_time": "2019-04-23T13:30:14.685892Z"
    },
    "collapsed": true
   },
   "outputs": [],
   "source": [
    "def make_harmonic_features(value, period=24):\n",
    "    value = (value / period) * 2 * np.pi\n",
    "    return np.cos(value), np.sin(value)"
   ]
  },
  {
   "cell_type": "code",
   "execution_count": 41,
   "metadata": {
    "ExecuteTime": {
     "end_time": "2019-04-23T13:30:19.703048Z",
     "start_time": "2019-04-23T13:30:14.692560Z"
    },
    "collapsed": true
   },
   "outputs": [],
   "source": [
    "data_train['cos_time'] = data_train.start_time.apply(lambda x: make_harmonic_features(x.hour + x.minute / 60)[0])\n",
    "data_train['sin_time'] = data_train.start_time.apply(lambda x: make_harmonic_features(x.hour + x.minute / 60)[0])\n",
    "\n",
    "data_test['cos_time'] = data_test.start_time.apply(lambda x: make_harmonic_features(x.hour + x.minute / 60)[0])\n",
    "data_test['sin_time'] = data_test.start_time.apply(lambda x: make_harmonic_features(x.hour + x.minute / 60)[0])"
   ]
  },
  {
   "cell_type": "code",
   "execution_count": 42,
   "metadata": {
    "ExecuteTime": {
     "end_time": "2019-04-23T13:30:21.166827Z",
     "start_time": "2019-04-23T13:30:19.704553Z"
    },
    "collapsed": true
   },
   "outputs": [],
   "source": [
    "data_train['week_day'] = data_train.start_time.apply(lambda x: x.isoweekday())\n",
    "data_test['week_day'] = data_test.start_time.apply(lambda x: x.isoweekday())"
   ]
  },
  {
   "cell_type": "code",
   "execution_count": 44,
   "metadata": {
    "ExecuteTime": {
     "end_time": "2019-04-23T13:30:21.278398Z",
     "start_time": "2019-04-23T13:30:21.198958Z"
    },
    "collapsed": true
   },
   "outputs": [],
   "source": [
    "data_train = data_train.drop(['start_time'], axis=1)\n",
    "data_test = data_test.drop(['start_time'], axis=1)"
   ]
  },
  {
   "cell_type": "markdown",
   "metadata": {},
   "source": [
    "##### текст"
   ]
  },
  {
   "cell_type": "code",
   "execution_count": 45,
   "metadata": {
    "ExecuteTime": {
     "end_time": "2019-04-23T13:30:33.490675Z",
     "start_time": "2019-04-23T13:30:33.458952Z"
    },
    "collapsed": true
   },
   "outputs": [],
   "source": [
    "# !pip install pymorphy2\n",
    "\n",
    "import re\n",
    "import pymorphy2\n",
    "from functools import lru_cache"
   ]
  },
  {
   "cell_type": "code",
   "execution_count": 46,
   "metadata": {
    "ExecuteTime": {
     "end_time": "2019-04-23T13:30:35.135963Z",
     "start_time": "2019-04-23T13:30:35.031892Z"
    },
    "collapsed": true
   },
   "outputs": [],
   "source": [
    "morph = pymorphy2.MorphAnalyzer()"
   ]
  },
  {
   "cell_type": "code",
   "execution_count": 47,
   "metadata": {
    "ExecuteTime": {
     "end_time": "2019-04-23T13:30:35.810176Z",
     "start_time": "2019-04-23T13:30:35.799887Z"
    },
    "scrolled": true
   },
   "outputs": [
    {
     "data": {
      "text/plain": [
       "[Parse(word='сладенькая', tag=OpencorporaTag('ADJF femn,sing,nomn'), normal_form='сладенький', score=1.0, methods_stack=((<DictionaryAnalyzer>, 'сладенькая', 16, 7),))]"
      ]
     },
     "execution_count": 47,
     "metadata": {},
     "output_type": "execute_result"
    }
   ],
   "source": [
    "morph.parse('сладенькая')"
   ]
  },
  {
   "cell_type": "code",
   "execution_count": 48,
   "metadata": {
    "ExecuteTime": {
     "end_time": "2019-04-23T13:30:36.970224Z",
     "start_time": "2019-04-23T13:30:36.959977Z"
    }
   },
   "outputs": [
    {
     "data": {
      "text/plain": [
       "[Parse(word='сладенький', tag=OpencorporaTag('ADJF masc,sing,nomn'), normal_form='сладенький', score=1.0, methods_stack=((<DictionaryAnalyzer>, 'сладенький', 16, 0),)),\n",
       " Parse(word='сладенького', tag=OpencorporaTag('ADJF masc,sing,gent'), normal_form='сладенький', score=1.0, methods_stack=((<DictionaryAnalyzer>, 'сладенького', 16, 1),)),\n",
       " Parse(word='сладенькому', tag=OpencorporaTag('ADJF masc,sing,datv'), normal_form='сладенький', score=1.0, methods_stack=((<DictionaryAnalyzer>, 'сладенькому', 16, 2),)),\n",
       " Parse(word='сладенького', tag=OpencorporaTag('ADJF anim,masc,sing,accs'), normal_form='сладенький', score=1.0, methods_stack=((<DictionaryAnalyzer>, 'сладенького', 16, 3),)),\n",
       " Parse(word='сладенький', tag=OpencorporaTag('ADJF inan,masc,sing,accs'), normal_form='сладенький', score=1.0, methods_stack=((<DictionaryAnalyzer>, 'сладенький', 16, 4),)),\n",
       " Parse(word='сладеньким', tag=OpencorporaTag('ADJF masc,sing,ablt'), normal_form='сладенький', score=1.0, methods_stack=((<DictionaryAnalyzer>, 'сладеньким', 16, 5),)),\n",
       " Parse(word='сладеньком', tag=OpencorporaTag('ADJF masc,sing,loct'), normal_form='сладенький', score=1.0, methods_stack=((<DictionaryAnalyzer>, 'сладеньком', 16, 6),)),\n",
       " Parse(word='сладенькая', tag=OpencorporaTag('ADJF femn,sing,nomn'), normal_form='сладенький', score=1.0, methods_stack=((<DictionaryAnalyzer>, 'сладенькая', 16, 7),)),\n",
       " Parse(word='сладенькой', tag=OpencorporaTag('ADJF femn,sing,gent'), normal_form='сладенький', score=1.0, methods_stack=((<DictionaryAnalyzer>, 'сладенькой', 16, 8),)),\n",
       " Parse(word='сладенькой', tag=OpencorporaTag('ADJF femn,sing,datv'), normal_form='сладенький', score=1.0, methods_stack=((<DictionaryAnalyzer>, 'сладенькой', 16, 9),)),\n",
       " Parse(word='сладенькую', tag=OpencorporaTag('ADJF femn,sing,accs'), normal_form='сладенький', score=1.0, methods_stack=((<DictionaryAnalyzer>, 'сладенькую', 16, 10),)),\n",
       " Parse(word='сладенькой', tag=OpencorporaTag('ADJF femn,sing,ablt'), normal_form='сладенький', score=1.0, methods_stack=((<DictionaryAnalyzer>, 'сладенькой', 16, 11),)),\n",
       " Parse(word='сладенькою', tag=OpencorporaTag('ADJF femn,sing,ablt,V-oy'), normal_form='сладенький', score=1.0, methods_stack=((<DictionaryAnalyzer>, 'сладенькою', 16, 12),)),\n",
       " Parse(word='сладенькой', tag=OpencorporaTag('ADJF femn,sing,loct'), normal_form='сладенький', score=1.0, methods_stack=((<DictionaryAnalyzer>, 'сладенькой', 16, 13),)),\n",
       " Parse(word='сладенькое', tag=OpencorporaTag('ADJF neut,sing,nomn'), normal_form='сладенький', score=1.0, methods_stack=((<DictionaryAnalyzer>, 'сладенькое', 16, 14),)),\n",
       " Parse(word='сладенького', tag=OpencorporaTag('ADJF neut,sing,gent'), normal_form='сладенький', score=1.0, methods_stack=((<DictionaryAnalyzer>, 'сладенького', 16, 15),)),\n",
       " Parse(word='сладенькому', tag=OpencorporaTag('ADJF neut,sing,datv'), normal_form='сладенький', score=1.0, methods_stack=((<DictionaryAnalyzer>, 'сладенькому', 16, 16),)),\n",
       " Parse(word='сладенькое', tag=OpencorporaTag('ADJF neut,sing,accs'), normal_form='сладенький', score=1.0, methods_stack=((<DictionaryAnalyzer>, 'сладенькое', 16, 17),)),\n",
       " Parse(word='сладеньким', tag=OpencorporaTag('ADJF neut,sing,ablt'), normal_form='сладенький', score=1.0, methods_stack=((<DictionaryAnalyzer>, 'сладеньким', 16, 18),)),\n",
       " Parse(word='сладеньком', tag=OpencorporaTag('ADJF neut,sing,loct'), normal_form='сладенький', score=1.0, methods_stack=((<DictionaryAnalyzer>, 'сладеньком', 16, 19),)),\n",
       " Parse(word='сладенькие', tag=OpencorporaTag('ADJF plur,nomn'), normal_form='сладенький', score=1.0, methods_stack=((<DictionaryAnalyzer>, 'сладенькие', 16, 20),)),\n",
       " Parse(word='сладеньких', tag=OpencorporaTag('ADJF plur,gent'), normal_form='сладенький', score=1.0, methods_stack=((<DictionaryAnalyzer>, 'сладеньких', 16, 21),)),\n",
       " Parse(word='сладеньким', tag=OpencorporaTag('ADJF plur,datv'), normal_form='сладенький', score=1.0, methods_stack=((<DictionaryAnalyzer>, 'сладеньким', 16, 22),)),\n",
       " Parse(word='сладеньких', tag=OpencorporaTag('ADJF anim,plur,accs'), normal_form='сладенький', score=1.0, methods_stack=((<DictionaryAnalyzer>, 'сладеньких', 16, 23),)),\n",
       " Parse(word='сладенькие', tag=OpencorporaTag('ADJF inan,plur,accs'), normal_form='сладенький', score=1.0, methods_stack=((<DictionaryAnalyzer>, 'сладенькие', 16, 24),)),\n",
       " Parse(word='сладенькими', tag=OpencorporaTag('ADJF plur,ablt'), normal_form='сладенький', score=1.0, methods_stack=((<DictionaryAnalyzer>, 'сладенькими', 16, 25),)),\n",
       " Parse(word='сладеньких', tag=OpencorporaTag('ADJF plur,loct'), normal_form='сладенький', score=1.0, methods_stack=((<DictionaryAnalyzer>, 'сладеньких', 16, 26),))]"
      ]
     },
     "execution_count": 48,
     "metadata": {},
     "output_type": "execute_result"
    }
   ],
   "source": [
    "morph.get_lexeme(morph.parse('сладенькая')[0])"
   ]
  },
  {
   "cell_type": "code",
   "execution_count": 49,
   "metadata": {
    "ExecuteTime": {
     "end_time": "2019-04-23T13:30:37.729555Z",
     "start_time": "2019-04-23T13:30:37.717367Z"
    },
    "scrolled": true
   },
   "outputs": [
    {
     "data": {
      "text/plain": [
       "(['чехол'], ['сладкий'])"
      ]
     },
     "execution_count": 49,
     "metadata": {},
     "output_type": "execute_result"
    }
   ],
   "source": [
    "morph.normal_forms('чехлы'), morph.normal_forms('сладкая')"
   ]
  },
  {
   "cell_type": "code",
   "execution_count": null,
   "metadata": {
    "collapsed": true
   },
   "outputs": [],
   "source": []
  },
  {
   "cell_type": "code",
   "execution_count": 50,
   "metadata": {
    "ExecuteTime": {
     "end_time": "2019-04-23T13:32:31.977169Z",
     "start_time": "2019-04-23T13:32:31.944608Z"
    },
    "collapsed": true
   },
   "outputs": [],
   "source": [
    "@lru_cache(maxsize=100000) # с кешом!\n",
    "def get_normal_form (i):\n",
    "    return morph.normal_forms(i)[0]\n",
    "\n",
    "def normalize_text(x):\n",
    "    return ' '.join([get_normal_form(i) for i in re.findall('\\w+', x)])"
   ]
  },
  {
   "cell_type": "code",
   "execution_count": 51,
   "metadata": {
    "ExecuteTime": {
     "end_time": "2019-04-23T13:32:32.457166Z",
     "start_time": "2019-04-23T13:32:32.445634Z"
    }
   },
   "outputs": [
    {
     "data": {
      "text/plain": [
       "'детский одежда и обувь'"
      ]
     },
     "execution_count": 51,
     "metadata": {},
     "output_type": "execute_result"
    }
   ],
   "source": [
    "normalize_text('Детская одежда и обувь')"
   ]
  },
  {
   "cell_type": "code",
   "execution_count": 52,
   "metadata": {
    "ExecuteTime": {
     "end_time": "2019-04-23T13:32:51.828441Z",
     "start_time": "2019-04-23T13:32:51.825079Z"
    },
    "collapsed": true
   },
   "outputs": [],
   "source": [
    "from multiprocessing import Pool"
   ]
  },
  {
   "cell_type": "code",
   "execution_count": 53,
   "metadata": {
    "ExecuteTime": {
     "end_time": "2019-04-23T13:33:30.142757Z",
     "start_time": "2019-04-23T13:33:17.769320Z"
    }
   },
   "outputs": [
    {
     "name": "stdout",
     "output_type": "stream",
     "text": [
      "CPU times: user 786 ms, sys: 346 ms, total: 1.13 s\n",
      "Wall time: 36.3 s\n"
     ]
    }
   ],
   "source": [
    "%%time\n",
    "with Pool(processes=4) as pool:\n",
    "    data_train['title'] = pool.map(normalize_text, data_train.title)\n",
    "    data_test['title'] = pool.map(normalize_text, data_test.title)\n",
    "    pool.terminate()"
   ]
  },
  {
   "cell_type": "markdown",
   "metadata": {},
   "source": [
    "##### Куча категориальных признаков"
   ]
  },
  {
   "cell_type": "code",
   "execution_count": 54,
   "metadata": {
    "ExecuteTime": {
     "end_time": "2019-04-23T13:34:01.848491Z",
     "start_time": "2019-04-23T13:34:01.194095Z"
    },
    "collapsed": true
   },
   "outputs": [],
   "source": [
    "# конкатенация строк\n",
    "data_train['all_params'] = data_train.param1 + ' ' + data_train.param2 + ' ' + data_train.param3\n",
    "data_train['params_12'] = data_train.param1 + ' ' + data_train.param2\n",
    "data_train['params_23'] = data_train.param2 + ' ' + data_train.param3\n",
    "data_train['category_and_owner_type'] = data_train.owner_type + ' ' + data_train.category\n",
    "data_train['category_and_region'] = data_train.region + ' ' + data_train.category\n",
    "data_train['owner_type_and_region'] = data_train.owner_type + ' ' + data_train.category\n",
    "\n",
    "data_test['all_params'] = data_test.param1 + ' ' + data_test.param2 + ' ' + data_test.param3\n",
    "data_test['params_12'] = data_test.param1 + ' ' + data_test.param2\n",
    "data_test['params_23'] = data_test.param2 + ' ' + data_test.param3\n",
    "data_test['category_and_owner_type'] = data_test.owner_type + ' ' + data_test.category\n",
    "data_test['category_and_region'] = data_test.region + ' ' + data_test.category\n",
    "data_test['owner_type_and_region'] = data_test.owner_type + ' ' + data_test.category\n",
    "\n",
    "str_cols = ['owner_type', 'title',\n",
    "            'param1', 'param2', 'param3',\n",
    "            'region', 'category' , 'subcategory', \n",
    "            'params_12', 'params_23', 'all_params',\n",
    "            'category_and_owner_type',\n",
    "            'category_and_region', 'owner_type_and_region'\n",
    "           ]"
   ]
  },
  {
   "cell_type": "code",
   "execution_count": 55,
   "metadata": {
    "ExecuteTime": {
     "end_time": "2019-04-23T13:34:01.974125Z",
     "start_time": "2019-04-23T13:34:01.970782Z"
    },
    "collapsed": true
   },
   "outputs": [],
   "source": [
    "pd.options.display.max_columns = 50"
   ]
  },
  {
   "cell_type": "code",
   "execution_count": 57,
   "metadata": {
    "ExecuteTime": {
     "end_time": "2019-04-23T13:34:12.171190Z",
     "start_time": "2019-04-23T13:34:12.159653Z"
    }
   },
   "outputs": [
    {
     "data": {
      "text/plain": [
       "Index(['id', 'title', 'price', 'item_id', 'owner_type', 'category',\n",
       "       'subcategory', 'param1', 'param2', 'param3', 'region', 'item_views',\n",
       "       'relative_time', 'time_to_end', 'slided_hours', 'cos_time', 'sin_time',\n",
       "       'week_day', 'all_params', 'params_12', 'params_23',\n",
       "       'category_and_owner_type', 'category_and_region',\n",
       "       'owner_type_and_region'],\n",
       "      dtype='object')"
      ]
     },
     "execution_count": 57,
     "metadata": {},
     "output_type": "execute_result"
    }
   ],
   "source": [
    "data_train.columns"
   ]
  },
  {
   "cell_type": "code",
   "execution_count": 58,
   "metadata": {
    "collapsed": true
   },
   "outputs": [],
   "source": [
    "X_train, y_train = data_train.drop(['item_views', 'id', 'item_id'], axis=1), data_train['item_views'].values\n",
    "X_test = data_test.drop(['id', 'item_id'], axis=1)"
   ]
  },
  {
   "cell_type": "code",
   "execution_count": 59,
   "metadata": {
    "ExecuteTime": {
     "end_time": "2019-04-23T13:36:55.205308Z",
     "start_time": "2019-04-23T13:36:55.188630Z"
    },
    "collapsed": true
   },
   "outputs": [],
   "source": [
    "def _counter_encoder(dt, str_cols, counter_Encoders, is_train=True):\n",
    "    \"\"\"\n",
    "    Counter Encoder.\n",
    "    \"\"\"\n",
    "    if is_train:\n",
    "        counter_Encoders = {col:dt[col].value_counts().to_dict() for col in str_cols}\n",
    "        \n",
    "    for column in str_cols:\n",
    "        dt[column+'_enc_by_count'] = dt[column].apply(lambda x: counter_Encoders[column].get(x, 0))\n",
    "        \n",
    "    return counter_Encoders"
   ]
  },
  {
   "cell_type": "code",
   "execution_count": 60,
   "metadata": {
    "ExecuteTime": {
     "end_time": "2019-04-23T13:37:04.844527Z",
     "start_time": "2019-04-23T13:37:00.459640Z"
    }
   },
   "outputs": [],
   "source": [
    "counter_Encoders = _counter_encoder(X_train, str_cols=str_cols, counter_Encoders=None, is_train=True)"
   ]
  },
  {
   "cell_type": "code",
   "execution_count": 61,
   "metadata": {
    "ExecuteTime": {
     "end_time": "2019-04-23T13:37:06.125259Z",
     "start_time": "2019-04-23T13:37:04.846010Z"
    }
   },
   "outputs": [],
   "source": [
    "_ = _counter_encoder(X_test, str_cols=str_cols, counter_Encoders=counter_Encoders, is_train=False)"
   ]
  },
  {
   "cell_type": "code",
   "execution_count": 62,
   "metadata": {
    "ExecuteTime": {
     "end_time": "2019-04-23T13:37:06.290702Z",
     "start_time": "2019-04-23T13:37:06.126746Z"
    },
    "collapsed": true
   },
   "outputs": [],
   "source": [
    "# выкинем не интересное\n",
    "\n",
    "X_train = X_train.drop(str_cols, axis=1)\n",
    "X_test = X_test.drop(str_cols, axis=1)"
   ]
  },
  {
   "cell_type": "code",
   "execution_count": null,
   "metadata": {
    "collapsed": true
   },
   "outputs": [],
   "source": []
  },
  {
   "cell_type": "code",
   "execution_count": 64,
   "metadata": {
    "ExecuteTime": {
     "end_time": "2019-04-23T13:37:45.763674Z",
     "start_time": "2019-04-23T13:37:45.756743Z"
    },
    "collapsed": true
   },
   "outputs": [],
   "source": [
    "from sklearn.tree import DecisionTreeRegressor"
   ]
  },
  {
   "cell_type": "code",
   "execution_count": 65,
   "metadata": {
    "ExecuteTime": {
     "end_time": "2019-04-23T13:38:02.491910Z",
     "start_time": "2019-04-23T13:38:02.486249Z"
    },
    "collapsed": true
   },
   "outputs": [],
   "source": [
    "regr = DecisionTreeRegressor()"
   ]
  },
  {
   "cell_type": "code",
   "execution_count": 66,
   "metadata": {
    "ExecuteTime": {
     "end_time": "2019-04-23T13:38:19.255974Z",
     "start_time": "2019-04-23T13:38:13.383786Z"
    }
   },
   "outputs": [
    {
     "data": {
      "text/plain": [
       "DecisionTreeRegressor(criterion='mse', max_depth=None, max_features=None,\n",
       "           max_leaf_nodes=None, min_impurity_decrease=0.0,\n",
       "           min_impurity_split=None, min_samples_leaf=1,\n",
       "           min_samples_split=2, min_weight_fraction_leaf=0.0,\n",
       "           presort=False, random_state=None, splitter='best')"
      ]
     },
     "execution_count": 66,
     "metadata": {},
     "output_type": "execute_result"
    }
   ],
   "source": [
    "regr.fit(X_train, y_train)"
   ]
  },
  {
   "cell_type": "code",
   "execution_count": 67,
   "metadata": {
    "ExecuteTime": {
     "end_time": "2019-04-23T13:38:55.675491Z",
     "start_time": "2019-04-23T13:38:55.598241Z"
    },
    "collapsed": true
   },
   "outputs": [],
   "source": [
    "y_pred = regr.predict(X_test.values)"
   ]
  },
  {
   "cell_type": "markdown",
   "metadata": {},
   "source": [
    "> 0.84451"
   ]
  },
  {
   "cell_type": "code",
   "execution_count": 71,
   "metadata": {},
   "outputs": [],
   "source": [
    "pd.DataFrame({'id': data_test.id, 'item_views':y_pred}).to_csv('my_sample_pred.csv', index=None)"
   ]
  },
  {
   "cell_type": "code",
   "execution_count": null,
   "metadata": {
    "collapsed": true
   },
   "outputs": [],
   "source": []
  }
 ],
 "metadata": {
  "kernelspec": {
   "display_name": "Python 3",
   "language": "python",
   "name": "python3"
  },
  "language_info": {
   "codemirror_mode": {
    "name": "ipython",
    "version": 3
   },
   "file_extension": ".py",
   "mimetype": "text/x-python",
   "name": "python",
   "nbconvert_exporter": "python",
   "pygments_lexer": "ipython3",
   "version": "3.6.8"
  },
  "latex_envs": {
   "LaTeX_envs_menu_present": true,
   "autoclose": false,
   "autocomplete": true,
   "bibliofile": "biblio.bib",
   "cite_by": "apalike",
   "current_citInitial": 1,
   "eqLabelWithNumbers": true,
   "eqNumInitial": 1,
   "hotkeys": {
    "equation": "Ctrl-E",
    "itemize": "Ctrl-I"
   },
   "labels_anchors": false,
   "latex_user_defs": false,
   "report_style_numbering": false,
   "user_envs_cfg": false
  }
 },
 "nbformat": 4,
 "nbformat_minor": 2
}
