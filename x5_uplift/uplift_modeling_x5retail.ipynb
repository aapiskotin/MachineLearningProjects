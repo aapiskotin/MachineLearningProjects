{
 "cells": [
  {
   "cell_type": "code",
   "execution_count": 1,
   "metadata": {},
   "outputs": [],
   "source": [
    "import pandas as pd\n",
    "import numpy as np\n",
    "\n",
    "import matplotlib.pyplot as plt"
   ]
  },
  {
   "cell_type": "code",
   "execution_count": 2,
   "metadata": {},
   "outputs": [],
   "source": [
    "clients = pd.read_csv('./data/clients.csv', index_col='client_id')"
   ]
  },
  {
   "cell_type": "code",
   "execution_count": 3,
   "metadata": {},
   "outputs": [
    {
     "data": {
      "text/html": [
       "<div>\n",
       "<style scoped>\n",
       "    .dataframe tbody tr th:only-of-type {\n",
       "        vertical-align: middle;\n",
       "    }\n",
       "\n",
       "    .dataframe tbody tr th {\n",
       "        vertical-align: top;\n",
       "    }\n",
       "\n",
       "    .dataframe thead th {\n",
       "        text-align: right;\n",
       "    }\n",
       "</style>\n",
       "<table border=\"1\" class=\"dataframe\">\n",
       "  <thead>\n",
       "    <tr style=\"text-align: right;\">\n",
       "      <th></th>\n",
       "      <th>first_issue_date</th>\n",
       "      <th>first_redeem_date</th>\n",
       "      <th>age</th>\n",
       "      <th>gender</th>\n",
       "    </tr>\n",
       "    <tr>\n",
       "      <th>client_id</th>\n",
       "      <th></th>\n",
       "      <th></th>\n",
       "      <th></th>\n",
       "      <th></th>\n",
       "    </tr>\n",
       "  </thead>\n",
       "  <tbody>\n",
       "    <tr>\n",
       "      <th>000012768d</th>\n",
       "      <td>2017-08-05 15:40:48</td>\n",
       "      <td>2018-01-04 19:30:07</td>\n",
       "      <td>45</td>\n",
       "      <td>U</td>\n",
       "    </tr>\n",
       "    <tr>\n",
       "      <th>000036f903</th>\n",
       "      <td>2017-04-10 13:54:23</td>\n",
       "      <td>2017-04-23 12:37:56</td>\n",
       "      <td>72</td>\n",
       "      <td>F</td>\n",
       "    </tr>\n",
       "    <tr>\n",
       "      <th>000048b7a6</th>\n",
       "      <td>2018-12-15 13:33:11</td>\n",
       "      <td>NaN</td>\n",
       "      <td>68</td>\n",
       "      <td>F</td>\n",
       "    </tr>\n",
       "    <tr>\n",
       "      <th>000073194a</th>\n",
       "      <td>2017-05-23 12:56:14</td>\n",
       "      <td>2017-11-24 11:18:01</td>\n",
       "      <td>60</td>\n",
       "      <td>F</td>\n",
       "    </tr>\n",
       "    <tr>\n",
       "      <th>00007c7133</th>\n",
       "      <td>2017-05-22 16:17:08</td>\n",
       "      <td>2018-12-31 17:17:33</td>\n",
       "      <td>67</td>\n",
       "      <td>U</td>\n",
       "    </tr>\n",
       "  </tbody>\n",
       "</table>\n",
       "</div>"
      ],
      "text/plain": [
       "               first_issue_date    first_redeem_date  age gender\n",
       "client_id                                                       \n",
       "000012768d  2017-08-05 15:40:48  2018-01-04 19:30:07   45      U\n",
       "000036f903  2017-04-10 13:54:23  2017-04-23 12:37:56   72      F\n",
       "000048b7a6  2018-12-15 13:33:11                  NaN   68      F\n",
       "000073194a  2017-05-23 12:56:14  2017-11-24 11:18:01   60      F\n",
       "00007c7133  2017-05-22 16:17:08  2018-12-31 17:17:33   67      U"
      ]
     },
     "execution_count": 3,
     "metadata": {},
     "output_type": "execute_result"
    }
   ],
   "source": [
    "clients.head()"
   ]
  },
  {
   "cell_type": "code",
   "execution_count": 4,
   "metadata": {},
   "outputs": [
    {
     "name": "stdout",
     "output_type": "stream",
     "text": [
      "<class 'pandas.core.frame.DataFrame'>\n",
      "Index: 400162 entries, 000012768d to fffff6ce77\n",
      "Data columns (total 4 columns):\n",
      "first_issue_date     400162 non-null object\n",
      "first_redeem_date    364693 non-null object\n",
      "age                  400162 non-null int64\n",
      "gender               400162 non-null object\n",
      "dtypes: int64(1), object(3)\n",
      "memory usage: 15.3+ MB\n"
     ]
    }
   ],
   "source": [
    "clients.info()"
   ]
  },
  {
   "cell_type": "code",
   "execution_count": 5,
   "metadata": {},
   "outputs": [],
   "source": [
    "prods = pd.read_csv('./data/products.csv', index_col='product_id')"
   ]
  },
  {
   "cell_type": "code",
   "execution_count": 6,
   "metadata": {},
   "outputs": [
    {
     "data": {
      "text/html": [
       "<div>\n",
       "<style scoped>\n",
       "    .dataframe tbody tr th:only-of-type {\n",
       "        vertical-align: middle;\n",
       "    }\n",
       "\n",
       "    .dataframe tbody tr th {\n",
       "        vertical-align: top;\n",
       "    }\n",
       "\n",
       "    .dataframe thead th {\n",
       "        text-align: right;\n",
       "    }\n",
       "</style>\n",
       "<table border=\"1\" class=\"dataframe\">\n",
       "  <thead>\n",
       "    <tr style=\"text-align: right;\">\n",
       "      <th></th>\n",
       "      <th>level_1</th>\n",
       "      <th>level_2</th>\n",
       "      <th>level_3</th>\n",
       "      <th>level_4</th>\n",
       "      <th>segment_id</th>\n",
       "      <th>brand_id</th>\n",
       "      <th>vendor_id</th>\n",
       "      <th>netto</th>\n",
       "      <th>is_own_trademark</th>\n",
       "      <th>is_alcohol</th>\n",
       "    </tr>\n",
       "    <tr>\n",
       "      <th>product_id</th>\n",
       "      <th></th>\n",
       "      <th></th>\n",
       "      <th></th>\n",
       "      <th></th>\n",
       "      <th></th>\n",
       "      <th></th>\n",
       "      <th></th>\n",
       "      <th></th>\n",
       "      <th></th>\n",
       "      <th></th>\n",
       "    </tr>\n",
       "  </thead>\n",
       "  <tbody>\n",
       "    <tr>\n",
       "      <th>0003020d3c</th>\n",
       "      <td>c3d3a8e8c6</td>\n",
       "      <td>c2a3ea8d5e</td>\n",
       "      <td>b7cda0ec0c</td>\n",
       "      <td>6376f2a852</td>\n",
       "      <td>123.0</td>\n",
       "      <td>394a54a7c1</td>\n",
       "      <td>9eaff48661</td>\n",
       "      <td>0.400</td>\n",
       "      <td>0</td>\n",
       "      <td>0</td>\n",
       "    </tr>\n",
       "    <tr>\n",
       "      <th>0003870676</th>\n",
       "      <td>e344ab2e71</td>\n",
       "      <td>52f13dac0c</td>\n",
       "      <td>d3cfe81323</td>\n",
       "      <td>6dc544533f</td>\n",
       "      <td>105.0</td>\n",
       "      <td>acd3dd483f</td>\n",
       "      <td>10486c3cf0</td>\n",
       "      <td>0.680</td>\n",
       "      <td>0</td>\n",
       "      <td>0</td>\n",
       "    </tr>\n",
       "    <tr>\n",
       "      <th>0003ceaf69</th>\n",
       "      <td>c3d3a8e8c6</td>\n",
       "      <td>f2333c90fb</td>\n",
       "      <td>419bc5b424</td>\n",
       "      <td>f6148afbc0</td>\n",
       "      <td>271.0</td>\n",
       "      <td>f597581079</td>\n",
       "      <td>764e660dda</td>\n",
       "      <td>0.500</td>\n",
       "      <td>0</td>\n",
       "      <td>0</td>\n",
       "    </tr>\n",
       "    <tr>\n",
       "      <th>000701e093</th>\n",
       "      <td>ec62ce61e3</td>\n",
       "      <td>4202626fcb</td>\n",
       "      <td>88a515c084</td>\n",
       "      <td>48cf3d488f</td>\n",
       "      <td>172.0</td>\n",
       "      <td>54a90fe769</td>\n",
       "      <td>03c2d70bad</td>\n",
       "      <td>0.112</td>\n",
       "      <td>0</td>\n",
       "      <td>0</td>\n",
       "    </tr>\n",
       "    <tr>\n",
       "      <th>0007149564</th>\n",
       "      <td>e344ab2e71</td>\n",
       "      <td>52f13dac0c</td>\n",
       "      <td>d3cfe81323</td>\n",
       "      <td>6dc544533f</td>\n",
       "      <td>105.0</td>\n",
       "      <td>63417fe1f3</td>\n",
       "      <td>f329130198</td>\n",
       "      <td>0.600</td>\n",
       "      <td>0</td>\n",
       "      <td>0</td>\n",
       "    </tr>\n",
       "  </tbody>\n",
       "</table>\n",
       "</div>"
      ],
      "text/plain": [
       "               level_1     level_2     level_3     level_4  segment_id  \\\n",
       "product_id                                                               \n",
       "0003020d3c  c3d3a8e8c6  c2a3ea8d5e  b7cda0ec0c  6376f2a852       123.0   \n",
       "0003870676  e344ab2e71  52f13dac0c  d3cfe81323  6dc544533f       105.0   \n",
       "0003ceaf69  c3d3a8e8c6  f2333c90fb  419bc5b424  f6148afbc0       271.0   \n",
       "000701e093  ec62ce61e3  4202626fcb  88a515c084  48cf3d488f       172.0   \n",
       "0007149564  e344ab2e71  52f13dac0c  d3cfe81323  6dc544533f       105.0   \n",
       "\n",
       "              brand_id   vendor_id  netto  is_own_trademark  is_alcohol  \n",
       "product_id                                                               \n",
       "0003020d3c  394a54a7c1  9eaff48661  0.400                 0           0  \n",
       "0003870676  acd3dd483f  10486c3cf0  0.680                 0           0  \n",
       "0003ceaf69  f597581079  764e660dda  0.500                 0           0  \n",
       "000701e093  54a90fe769  03c2d70bad  0.112                 0           0  \n",
       "0007149564  63417fe1f3  f329130198  0.600                 0           0  "
      ]
     },
     "execution_count": 6,
     "metadata": {},
     "output_type": "execute_result"
    }
   ],
   "source": [
    "prods.head()"
   ]
  },
  {
   "cell_type": "code",
   "execution_count": 7,
   "metadata": {},
   "outputs": [
    {
     "data": {
      "text/plain": [
       "level_1                3\n",
       "level_2               42\n",
       "level_3              201\n",
       "level_4              790\n",
       "segment_id           116\n",
       "brand_id            4296\n",
       "vendor_id           3193\n",
       "netto                780\n",
       "is_own_trademark       2\n",
       "is_alcohol             2\n",
       "dtype: int64"
      ]
     },
     "execution_count": 7,
     "metadata": {},
     "output_type": "execute_result"
    }
   ],
   "source": [
    "prods.nunique()"
   ]
  },
  {
   "cell_type": "code",
   "execution_count": 8,
   "metadata": {},
   "outputs": [],
   "source": [
    "orders = pd.read_csv('./data/purchases.csv', nrows = 1000000, parse_dates=['transaction_datetime'])"
   ]
  },
  {
   "cell_type": "code",
   "execution_count": 9,
   "metadata": {},
   "outputs": [
    {
     "data": {
      "text/plain": [
       "client_id                    8872\n",
       "transaction_id             175165\n",
       "transaction_datetime       172282\n",
       "regular_points_received       860\n",
       "express_points_received        11\n",
       "regular_points_spent          458\n",
       "express_points_spent           41\n",
       "purchase_sum                48403\n",
       "store_id                    10649\n",
       "product_id                  27461\n",
       "product_quantity               57\n",
       "trn_sum_from_iss             1186\n",
       "trn_sum_from_red              593\n",
       "dtype: int64"
      ]
     },
     "execution_count": 9,
     "metadata": {},
     "output_type": "execute_result"
    }
   ],
   "source": [
    "orders.nunique()"
   ]
  },
  {
   "cell_type": "code",
   "execution_count": 10,
   "metadata": {},
   "outputs": [
    {
     "data": {
      "text/plain": [
       "(1000000, 13)"
      ]
     },
     "execution_count": 10,
     "metadata": {},
     "output_type": "execute_result"
    }
   ],
   "source": [
    "orders.shape"
   ]
  },
  {
   "cell_type": "code",
   "execution_count": 11,
   "metadata": {},
   "outputs": [
    {
     "name": "stdout",
     "output_type": "stream",
     "text": [
      "<class 'pandas.core.frame.DataFrame'>\n",
      "RangeIndex: 1000000 entries, 0 to 999999\n",
      "Data columns (total 13 columns):\n",
      "client_id                  1000000 non-null object\n",
      "transaction_id             1000000 non-null object\n",
      "transaction_datetime       1000000 non-null datetime64[ns]\n",
      "regular_points_received    1000000 non-null float64\n",
      "express_points_received    1000000 non-null float64\n",
      "regular_points_spent       1000000 non-null float64\n",
      "express_points_spent       1000000 non-null float64\n",
      "purchase_sum               1000000 non-null float64\n",
      "store_id                   1000000 non-null object\n",
      "product_id                 1000000 non-null object\n",
      "product_quantity           1000000 non-null float64\n",
      "trn_sum_from_iss           1000000 non-null float64\n",
      "trn_sum_from_red           68867 non-null float64\n",
      "dtypes: datetime64[ns](1), float64(8), object(4)\n",
      "memory usage: 99.2+ MB\n"
     ]
    }
   ],
   "source": [
    "orders.info()"
   ]
  },
  {
   "cell_type": "code",
   "execution_count": 12,
   "metadata": {},
   "outputs": [
    {
     "data": {
      "text/plain": [
       "<matplotlib.axes._subplots.AxesSubplot at 0x11c206278>"
      ]
     },
     "execution_count": 12,
     "metadata": {},
     "output_type": "execute_result"
    },
    {
     "data": {
      "image/png": "[encoded data removed]",
      "text/plain": [
       "<Figure size 432x288 with 1 Axes>"
      ]
     },
     "metadata": {
      "needs_background": "light"
     },
     "output_type": "display_data"
    }
   ],
   "source": [
    "(orders.purchase_sum - orders.trn_sum_from_red).hist()"
   ]
  },
  {
   "cell_type": "markdown",
   "metadata": {},
   "source": [
    "# Start Dataset"
   ]
  },
  {
   "cell_type": "markdown",
   "metadata": {},
   "source": [
    "Features explanations:\n",
    "* client_id, идентификатор клиента\n",
    "* transaction_id, идентификатор транзакции\n",
    "* transaction_datetime, время транзакции\n",
    "* regular_points_received, регулярные баллы полученные\n",
    "* express_points_received, срочные баллы полученные\n",
    "* regular_points_spent, регулярные баллы потраченные\n",
    "* express_points_spent, срочные баллы потраченные\n",
    "* purchase_sum, цена без учета скидок (by transaction)\n",
    "* store_id, идентификатор магазина\n",
    "* product_id, идентификатор продукта\n",
    "* product_quantity, количество продуктов\n",
    "* trn_sum_from_iss, реально оплаченное деньгами (by product)\n",
    "* trn_sum_from_red, конечная цена (деньги + баллы) (by product)"
   ]
  },
  {
   "cell_type": "code",
   "execution_count": 13,
   "metadata": {},
   "outputs": [
    {
     "data": {
      "text/plain": [
       "4    157287\n",
       "5    153427\n",
       "0    146477\n",
       "3    143170\n",
       "6    141570\n",
       "2    132591\n",
       "1    125478\n",
       "Name: transaction_datetime, dtype: int64"
      ]
     },
     "execution_count": 13,
     "metadata": {},
     "output_type": "execute_result"
    }
   ],
   "source": [
    "orders.transaction_datetime.dt.dayofweek.value_counts()"
   ]
  },
  {
   "cell_type": "code",
   "execution_count": 14,
   "metadata": {},
   "outputs": [
    {
     "data": {
      "text/plain": [
       "Index(['client_id', 'transaction_id', 'transaction_datetime',\n",
       "       'regular_points_received', 'express_points_received',\n",
       "       'regular_points_spent', 'express_points_spent', 'purchase_sum',\n",
       "       'store_id', 'product_id', 'product_quantity', 'trn_sum_from_iss',\n",
       "       'trn_sum_from_red'],\n",
       "      dtype='object')"
      ]
     },
     "execution_count": 14,
     "metadata": {},
     "output_type": "execute_result"
    }
   ],
   "source": [
    "orders.columns"
   ]
  },
  {
   "cell_type": "code",
   "execution_count": 47,
   "metadata": {},
   "outputs": [
    {
     "data": {
      "text/plain": [
       "client_id                    8872\n",
       "transaction_id             175165\n",
       "transaction_datetime       172282\n",
       "regular_points_received       860\n",
       "express_points_received        11\n",
       "regular_points_spent          458\n",
       "express_points_spent           41\n",
       "purchase_sum                48403\n",
       "store_id                    10649\n",
       "product_id                  27461\n",
       "product_quantity               57\n",
       "trn_sum_from_iss             1186\n",
       "trn_sum_from_red              593\n",
       "dtype: int64"
      ]
     },
     "execution_count": 47,
     "metadata": {},
     "output_type": "execute_result"
    }
   ],
   "source": [
    "orders.nunique()"
   ]
  },
  {
   "cell_type": "markdown",
   "metadata": {},
   "source": [
    "## Order Feature"
   ]
  },
  {
   "cell_type": "code",
   "execution_count": 50,
   "metadata": {},
   "outputs": [],
   "source": [
    "orders_headers = orders[['client_id', 'transaction_id', 'transaction_datetime',\n",
    "       'regular_points_received', 'express_points_received',\n",
    "       'regular_points_spent', 'express_points_spent', 'purchase_sum',\n",
    "       'store_id']].drop_duplicates().set_index('transaction_id')"
   ]
  },
  {
   "cell_type": "code",
   "execution_count": 51,
   "metadata": {
    "scrolled": true
   },
   "outputs": [
    {
     "name": "stdout",
     "output_type": "stream",
     "text": [
      "<class 'pandas.core.frame.DataFrame'>\n",
      "Index: 175165 entries, 7e3e2e3984 to 1dee4b51e2\n",
      "Data columns (total 8 columns):\n",
      "client_id                  175165 non-null object\n",
      "transaction_datetime       175165 non-null datetime64[ns]\n",
      "regular_points_received    175165 non-null float64\n",
      "express_points_received    175165 non-null float64\n",
      "regular_points_spent       175165 non-null float64\n",
      "express_points_spent       175165 non-null float64\n",
      "purchase_sum               175165 non-null float64\n",
      "store_id                   175165 non-null object\n",
      "dtypes: datetime64[ns](1), float64(5), object(2)\n",
      "memory usage: 12.0+ MB\n"
     ]
    }
   ],
   "source": [
    "orders_headers.info()"
   ]
  },
  {
   "cell_type": "code",
   "execution_count": 17,
   "metadata": {},
   "outputs": [
    {
     "data": {
      "text/plain": [
       "client_id                    8872\n",
       "transaction_datetime       172282\n",
       "regular_points_received       860\n",
       "express_points_received        11\n",
       "regular_points_spent          458\n",
       "express_points_spent           41\n",
       "purchase_sum                48403\n",
       "store_id                    10649\n",
       "dtype: int64"
      ]
     },
     "execution_count": 17,
     "metadata": {},
     "output_type": "execute_result"
    }
   ],
   "source": [
    "orders_headers.nunique()"
   ]
  },
  {
   "cell_type": "code",
   "execution_count": 18,
   "metadata": {},
   "outputs": [],
   "source": [
    "orders_headers['weekday'] = orders_headers.transaction_datetime.dt.dayofweek"
   ]
  },
  {
   "cell_type": "code",
   "execution_count": 19,
   "metadata": {},
   "outputs": [],
   "source": [
    "orders_headers['is_weekend'] = orders_headers.weekday > 4"
   ]
  },
  {
   "cell_type": "code",
   "execution_count": 20,
   "metadata": {},
   "outputs": [],
   "source": [
    "orders_headers['is_workday'] = orders_headers.weekday <=4"
   ]
  },
  {
   "cell_type": "code",
   "execution_count": 36,
   "metadata": {},
   "outputs": [],
   "source": [
    "orders_headers.sort_values(['client_id', 'transaction_datetime'], inplace=True)"
   ]
  },
  {
   "cell_type": "code",
   "execution_count": 22,
   "metadata": {},
   "outputs": [],
   "source": [
    "orders_headers['intervals'] = orders_headers.groupby('client_id').diff().transaction_datetime / np.timedelta64(1, 'D')"
   ]
  },
  {
   "cell_type": "code",
   "execution_count": 23,
   "metadata": {},
   "outputs": [],
   "source": [
    "orders_headers = orders_headers.join(orders.groupby('transaction_id').sum()['product_quantity'], how='left').join(orders.groupby('transaction_id').count()['product_id'], how='left') "
   ]
  },
  {
   "cell_type": "code",
   "execution_count": null,
   "metadata": {},
   "outputs": [],
   "source": []
  },
  {
   "cell_type": "code",
   "execution_count": 24,
   "metadata": {},
   "outputs": [
    {
     "name": "stdout",
     "output_type": "stream",
     "text": [
      "<class 'pandas.core.frame.DataFrame'>\n",
      "Index: 175165 entries, 7e3e2e3984 to 1dee4b51e2\n",
      "Data columns (total 14 columns):\n",
      "client_id                  175165 non-null object\n",
      "transaction_datetime       175165 non-null datetime64[ns]\n",
      "regular_points_received    175165 non-null float64\n",
      "express_points_received    175165 non-null float64\n",
      "regular_points_spent       175165 non-null float64\n",
      "express_points_spent       175165 non-null float64\n",
      "purchase_sum               175165 non-null float64\n",
      "store_id                   175165 non-null object\n",
      "weekday                    175165 non-null int64\n",
      "is_weekend                 175165 non-null bool\n",
      "is_workday                 175165 non-null bool\n",
      "intervals                  166293 non-null float64\n",
      "product_quantity           175165 non-null float64\n",
      "product_id                 175165 non-null int64\n",
      "dtypes: bool(2), datetime64[ns](1), float64(7), int64(2), object(2)\n",
      "memory usage: 22.7+ MB\n"
     ]
    }
   ],
   "source": [
    "orders_headers.info()"
   ]
  },
  {
   "cell_type": "code",
   "execution_count": 46,
   "metadata": {},
   "outputs": [
    {
     "data": {
      "text/plain": [
       "transaction_id\n",
       "7e3e2e3984       NaN\n",
       "c1ca85d462   -433.00\n",
       "6a0e96d0bc    229.00\n",
       "b34f23306e   -384.00\n",
       "12b218b054   -178.00\n",
       "               ...  \n",
       "faed17b671   -290.37\n",
       "1f83c45c11    299.92\n",
       "dc9561875a    -58.90\n",
       "c5e1ed7ff7   -150.02\n",
       "1dee4b51e2    143.00\n",
       "Name: purchase_sum, Length: 175165, dtype: float64"
      ]
     },
     "execution_count": 46,
     "metadata": {},
     "output_type": "execute_result"
    }
   ],
   "source": [
    "#orders sorted by client_id, datetime asceinding\n",
    "orders_headers[['purchase_sum', '']].diff()"
   ]
  },
  {
   "cell_type": "code",
   "execution_count": null,
   "metadata": {},
   "outputs": [],
   "source": [
    "#Difference between "
   ]
  },
  {
   "cell_type": "markdown",
   "metadata": {},
   "source": [
    "### Order Product Features"
   ]
  },
  {
   "cell_type": "code",
   "execution_count": 25,
   "metadata": {},
   "outputs": [],
   "source": [
    "orders_product = orders.set_index('product_id').join(prods, how='outer').reset_index()"
   ]
  },
  {
   "cell_type": "code",
   "execution_count": 26,
   "metadata": {},
   "outputs": [
    {
     "name": "stdout",
     "output_type": "stream",
     "text": [
      "<class 'pandas.core.frame.DataFrame'>\n",
      "RangeIndex: 1015577 entries, 0 to 1015576\n",
      "Data columns (total 23 columns):\n",
      "product_id                 1015577 non-null object\n",
      "client_id                  1000000 non-null object\n",
      "transaction_id             1000000 non-null object\n",
      "transaction_datetime       1000000 non-null datetime64[ns]\n",
      "regular_points_received    1000000 non-null float64\n",
      "express_points_received    1000000 non-null float64\n",
      "regular_points_spent       1000000 non-null float64\n",
      "express_points_spent       1000000 non-null float64\n",
      "purchase_sum               1000000 non-null float64\n",
      "store_id                   1000000 non-null object\n",
      "product_quantity           1000000 non-null float64\n",
      "trn_sum_from_iss           1000000 non-null float64\n",
      "trn_sum_from_red           68867 non-null float64\n",
      "level_1                    1015424 non-null object\n",
      "level_2                    1015424 non-null object\n",
      "level_3                    1015424 non-null object\n",
      "level_4                    1015424 non-null object\n",
      "segment_id                 991074 non-null float64\n",
      "brand_id                   954250 non-null object\n",
      "vendor_id                  1015342 non-null object\n",
      "netto                      1015424 non-null float64\n",
      "is_own_trademark           1015577 non-null int64\n",
      "is_alcohol                 1015577 non-null int64\n",
      "dtypes: datetime64[ns](1), float64(10), int64(2), object(10)\n",
      "memory usage: 178.2+ MB\n"
     ]
    }
   ],
   "source": [
    "orders_product.info()"
   ]
  },
  {
   "cell_type": "code",
   "execution_count": 27,
   "metadata": {},
   "outputs": [
    {
     "data": {
      "text/html": [
       "<div>\n",
       "<style scoped>\n",
       "    .dataframe tbody tr th:only-of-type {\n",
       "        vertical-align: middle;\n",
       "    }\n",
       "\n",
       "    .dataframe tbody tr th {\n",
       "        vertical-align: top;\n",
       "    }\n",
       "\n",
       "    .dataframe thead th {\n",
       "        text-align: right;\n",
       "    }\n",
       "</style>\n",
       "<table border=\"1\" class=\"dataframe\">\n",
       "  <thead>\n",
       "    <tr style=\"text-align: right;\">\n",
       "      <th></th>\n",
       "      <th>product_id</th>\n",
       "      <th>client_id</th>\n",
       "      <th>transaction_id</th>\n",
       "      <th>transaction_datetime</th>\n",
       "      <th>regular_points_received</th>\n",
       "      <th>express_points_received</th>\n",
       "      <th>regular_points_spent</th>\n",
       "      <th>express_points_spent</th>\n",
       "      <th>purchase_sum</th>\n",
       "      <th>store_id</th>\n",
       "      <th>...</th>\n",
       "      <th>level_1</th>\n",
       "      <th>level_2</th>\n",
       "      <th>level_3</th>\n",
       "      <th>level_4</th>\n",
       "      <th>segment_id</th>\n",
       "      <th>brand_id</th>\n",
       "      <th>vendor_id</th>\n",
       "      <th>netto</th>\n",
       "      <th>is_own_trademark</th>\n",
       "      <th>is_alcohol</th>\n",
       "    </tr>\n",
       "  </thead>\n",
       "  <tbody>\n",
       "    <tr>\n",
       "      <th>0</th>\n",
       "      <td>0003020d3c</td>\n",
       "      <td>NaN</td>\n",
       "      <td>NaN</td>\n",
       "      <td>NaT</td>\n",
       "      <td>NaN</td>\n",
       "      <td>NaN</td>\n",
       "      <td>NaN</td>\n",
       "      <td>NaN</td>\n",
       "      <td>NaN</td>\n",
       "      <td>NaN</td>\n",
       "      <td>...</td>\n",
       "      <td>c3d3a8e8c6</td>\n",
       "      <td>c2a3ea8d5e</td>\n",
       "      <td>b7cda0ec0c</td>\n",
       "      <td>6376f2a852</td>\n",
       "      <td>123.0</td>\n",
       "      <td>394a54a7c1</td>\n",
       "      <td>9eaff48661</td>\n",
       "      <td>0.40</td>\n",
       "      <td>0</td>\n",
       "      <td>0</td>\n",
       "    </tr>\n",
       "    <tr>\n",
       "      <th>1</th>\n",
       "      <td>0003870676</td>\n",
       "      <td>050c2b0f72</td>\n",
       "      <td>4b260ef875</td>\n",
       "      <td>2018-12-24 13:29:22</td>\n",
       "      <td>14.0</td>\n",
       "      <td>0.0</td>\n",
       "      <td>0.0</td>\n",
       "      <td>0.0</td>\n",
       "      <td>1403.58</td>\n",
       "      <td>70dab5f5c2</td>\n",
       "      <td>...</td>\n",
       "      <td>e344ab2e71</td>\n",
       "      <td>52f13dac0c</td>\n",
       "      <td>d3cfe81323</td>\n",
       "      <td>6dc544533f</td>\n",
       "      <td>105.0</td>\n",
       "      <td>acd3dd483f</td>\n",
       "      <td>10486c3cf0</td>\n",
       "      <td>0.68</td>\n",
       "      <td>0</td>\n",
       "      <td>0</td>\n",
       "    </tr>\n",
       "    <tr>\n",
       "      <th>2</th>\n",
       "      <td>0003870676</td>\n",
       "      <td>0540f7beb2</td>\n",
       "      <td>2911db4611</td>\n",
       "      <td>2019-03-11 08:00:15</td>\n",
       "      <td>7.8</td>\n",
       "      <td>0.0</td>\n",
       "      <td>0.0</td>\n",
       "      <td>0.0</td>\n",
       "      <td>680.00</td>\n",
       "      <td>9ad95350f5</td>\n",
       "      <td>...</td>\n",
       "      <td>e344ab2e71</td>\n",
       "      <td>52f13dac0c</td>\n",
       "      <td>d3cfe81323</td>\n",
       "      <td>6dc544533f</td>\n",
       "      <td>105.0</td>\n",
       "      <td>acd3dd483f</td>\n",
       "      <td>10486c3cf0</td>\n",
       "      <td>0.68</td>\n",
       "      <td>0</td>\n",
       "      <td>0</td>\n",
       "    </tr>\n",
       "    <tr>\n",
       "      <th>3</th>\n",
       "      <td>0003870676</td>\n",
       "      <td>0587a63359</td>\n",
       "      <td>946769d0ea</td>\n",
       "      <td>2019-02-19 15:41:22</td>\n",
       "      <td>12.4</td>\n",
       "      <td>0.0</td>\n",
       "      <td>0.0</td>\n",
       "      <td>0.0</td>\n",
       "      <td>1240.85</td>\n",
       "      <td>dad1b14a82</td>\n",
       "      <td>...</td>\n",
       "      <td>e344ab2e71</td>\n",
       "      <td>52f13dac0c</td>\n",
       "      <td>d3cfe81323</td>\n",
       "      <td>6dc544533f</td>\n",
       "      <td>105.0</td>\n",
       "      <td>acd3dd483f</td>\n",
       "      <td>10486c3cf0</td>\n",
       "      <td>0.68</td>\n",
       "      <td>0</td>\n",
       "      <td>0</td>\n",
       "    </tr>\n",
       "    <tr>\n",
       "      <th>4</th>\n",
       "      <td>0003ceaf69</td>\n",
       "      <td>017db1bdd4</td>\n",
       "      <td>1c1da7fff4</td>\n",
       "      <td>2019-02-07 09:20:46</td>\n",
       "      <td>5.9</td>\n",
       "      <td>0.0</td>\n",
       "      <td>0.0</td>\n",
       "      <td>0.0</td>\n",
       "      <td>593.75</td>\n",
       "      <td>10aaa6b3ea</td>\n",
       "      <td>...</td>\n",
       "      <td>c3d3a8e8c6</td>\n",
       "      <td>f2333c90fb</td>\n",
       "      <td>419bc5b424</td>\n",
       "      <td>f6148afbc0</td>\n",
       "      <td>271.0</td>\n",
       "      <td>f597581079</td>\n",
       "      <td>764e660dda</td>\n",
       "      <td>0.50</td>\n",
       "      <td>0</td>\n",
       "      <td>0</td>\n",
       "    </tr>\n",
       "  </tbody>\n",
       "</table>\n",
       "<p>5 rows × 23 columns</p>\n",
       "</div>"
      ],
      "text/plain": [
       "   product_id   client_id transaction_id transaction_datetime  \\\n",
       "0  0003020d3c         NaN            NaN                  NaT   \n",
       "1  0003870676  050c2b0f72     4b260ef875  2018-12-24 13:29:22   \n",
       "2  0003870676  0540f7beb2     2911db4611  2019-03-11 08:00:15   \n",
       "3  0003870676  0587a63359     946769d0ea  2019-02-19 15:41:22   \n",
       "4  0003ceaf69  017db1bdd4     1c1da7fff4  2019-02-07 09:20:46   \n",
       "\n",
       "   regular_points_received  express_points_received  regular_points_spent  \\\n",
       "0                      NaN                      NaN                   NaN   \n",
       "1                     14.0                      0.0                   0.0   \n",
       "2                      7.8                      0.0                   0.0   \n",
       "3                     12.4                      0.0                   0.0   \n",
       "4                      5.9                      0.0                   0.0   \n",
       "\n",
       "   express_points_spent  purchase_sum    store_id  ...     level_1  \\\n",
       "0                   NaN           NaN         NaN  ...  c3d3a8e8c6   \n",
       "1                   0.0       1403.58  70dab5f5c2  ...  e344ab2e71   \n",
       "2                   0.0        680.00  9ad95350f5  ...  e344ab2e71   \n",
       "3                   0.0       1240.85  dad1b14a82  ...  e344ab2e71   \n",
       "4                   0.0        593.75  10aaa6b3ea  ...  c3d3a8e8c6   \n",
       "\n",
       "      level_2     level_3     level_4 segment_id    brand_id   vendor_id  \\\n",
       "0  c2a3ea8d5e  b7cda0ec0c  6376f2a852      123.0  394a54a7c1  9eaff48661   \n",
       "1  52f13dac0c  d3cfe81323  6dc544533f      105.0  acd3dd483f  10486c3cf0   \n",
       "2  52f13dac0c  d3cfe81323  6dc544533f      105.0  acd3dd483f  10486c3cf0   \n",
       "3  52f13dac0c  d3cfe81323  6dc544533f      105.0  acd3dd483f  10486c3cf0   \n",
       "4  f2333c90fb  419bc5b424  f6148afbc0      271.0  f597581079  764e660dda   \n",
       "\n",
       "   netto is_own_trademark is_alcohol  \n",
       "0   0.40                0          0  \n",
       "1   0.68                0          0  \n",
       "2   0.68                0          0  \n",
       "3   0.68                0          0  \n",
       "4   0.50                0          0  \n",
       "\n",
       "[5 rows x 23 columns]"
      ]
     },
     "execution_count": 27,
     "metadata": {},
     "output_type": "execute_result"
    }
   ],
   "source": [
    "orders_product.head()"
   ]
  },
  {
   "cell_type": "markdown",
   "metadata": {},
   "source": [
    "## Final Features by Client"
   ]
  },
  {
   "cell_type": "code",
   "execution_count": 28,
   "metadata": {},
   "outputs": [],
   "source": [
    "client_means = orders_headers.groupby('client_id').mean()"
   ]
  },
  {
   "cell_type": "code",
   "execution_count": 29,
   "metadata": {},
   "outputs": [],
   "source": [
    "client_max = orders_headers.groupby('client_id').max()"
   ]
  },
  {
   "cell_type": "code",
   "execution_count": 30,
   "metadata": {},
   "outputs": [],
   "source": [
    "client_features = clients.join(\n",
    "                    client_means, how='left').join(\n",
    "                    client_max, how='left', lsuffix='_mean', rsuffix='_max')"
   ]
  },
  {
   "cell_type": "code",
   "execution_count": 31,
   "metadata": {},
   "outputs": [],
   "source": [
    "# client_features.mean()\n",
    "# Очень долго считается"
   ]
  },
  {
   "cell_type": "code",
   "execution_count": 32,
   "metadata": {},
   "outputs": [
    {
     "name": "stdout",
     "output_type": "stream",
     "text": [
      "<class 'pandas.core.frame.DataFrame'>\n",
      "Index: 400162 entries, 000012768d to fffff6ce77\n",
      "Data columns (total 28 columns):\n",
      "first_issue_date                400162 non-null object\n",
      "first_redeem_date               364693 non-null object\n",
      "age                             400162 non-null int64\n",
      "gender                          400162 non-null object\n",
      "regular_points_received_mean    8872 non-null float64\n",
      "express_points_received_mean    8872 non-null float64\n",
      "regular_points_spent_mean       8872 non-null float64\n",
      "express_points_spent_mean       8872 non-null float64\n",
      "purchase_sum_mean               8872 non-null float64\n",
      "weekday_mean                    8872 non-null float64\n",
      "is_weekend_mean                 8872 non-null float64\n",
      "is_workday_mean                 8872 non-null float64\n",
      "intervals_mean                  8712 non-null float64\n",
      "product_quantity_mean           8872 non-null float64\n",
      "product_id_mean                 8872 non-null float64\n",
      "transaction_datetime            8872 non-null datetime64[ns]\n",
      "regular_points_received_max     8872 non-null float64\n",
      "express_points_received_max     8872 non-null float64\n",
      "regular_points_spent_max        8872 non-null float64\n",
      "express_points_spent_max        8872 non-null float64\n",
      "purchase_sum_max                8872 non-null float64\n",
      "store_id                        8872 non-null object\n",
      "weekday_max                     8872 non-null float64\n",
      "is_weekend_max                  8872 non-null object\n",
      "is_workday_max                  8872 non-null object\n",
      "intervals_max                   8712 non-null float64\n",
      "product_quantity_max            8872 non-null float64\n",
      "product_id_max                  8872 non-null float64\n",
      "dtypes: datetime64[ns](1), float64(20), int64(1), object(6)\n",
      "memory usage: 98.5+ MB\n"
     ]
    }
   ],
   "source": [
    "client_features.info()"
   ]
  },
  {
   "cell_type": "markdown",
   "metadata": {},
   "source": [
    "# Modeling"
   ]
  },
  {
   "cell_type": "code",
   "execution_count": null,
   "metadata": {},
   "outputs": [],
   "source": []
  }
 ],
 "metadata": {
  "kernelspec": {
   "display_name": "Python 3",
   "language": "python",
   "name": "python3"
  },
  "language_info": {
   "codemirror_mode": {
    "name": "ipython",
    "version": 3
   },
   "file_extension": ".py",
   "mimetype": "text/x-python",
   "name": "python",
   "nbconvert_exporter": "python",
   "pygments_lexer": "ipython3",
   "version": "3.7.3"
  },
  "latex_envs": {
   "LaTeX_envs_menu_present": true,
   "autoclose": false,
   "autocomplete": true,
   "bibliofile": "biblio.bib",
   "cite_by": "apalike",
   "current_citInitial": 1,
   "eqLabelWithNumbers": true,
   "eqNumInitial": 1,
   "hotkeys": {
    "equation": "Ctrl-E",
    "itemize": "Ctrl-I"
   },
   "labels_anchors": false,
   "latex_user_defs": false,
   "report_style_numbering": false,
   "user_envs_cfg": false
  }
 },
 "nbformat": 4,
 "nbformat_minor": 2
}
